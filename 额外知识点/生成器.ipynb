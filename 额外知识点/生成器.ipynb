{
 "cells": [
  {
   "cell_type": "markdown",
   "id": "e686016b-f8af-4ce2-8403-c89a350b2b88",
   "metadata": {},
   "source": [
    "# 生成器知识点"
   ]
  },
  {
   "cell_type": "markdown",
   "id": "d1efdc85-657e-4e9f-ae3f-4491270b20b8",
   "metadata": {},
   "source": [
    "## 三个看似一样的列表，占用内存空间竟然不一样多？(BV19S4y1F7xq)"
   ]
  },
  {
   "cell_type": "code",
   "execution_count": 1,
   "id": "a92fb758-cf93-46a9-9caf-cd887c2cc266",
   "metadata": {},
   "outputs": [
    {
     "name": "stdout",
     "output_type": "stream",
     "text": [
      "80\n",
      "120\n",
      "88\n"
     ]
    }
   ],
   "source": [
    "import sys\n",
    "print(sys.getsizeof([0]*3))\n",
    "print(sys.getsizeof([0, 0, 0]))\n",
    "print(sys.getsizeof([0 for _ in range(3)]))"
   ]
  },
  {
   "cell_type": "code",
   "execution_count": 2,
   "id": "98ca5350-7a60-4479-bc17-088136985cb8",
   "metadata": {},
   "outputs": [
    {
     "name": "stdout",
     "output_type": "stream",
     "text": [
      "  1           0 LOAD_CONST               0 (0)\n",
      "              2 BUILD_LIST               1\n",
      "              4 LOAD_CONST               1 (3)\n",
      "              6 BINARY_MULTIPLY\n",
      "              8 RETURN_VALUE\n"
     ]
    }
   ],
   "source": [
    "import dis\n",
    "dis.dis(\"[0] * 3\")"
   ]
  },
  {
   "cell_type": "code",
   "execution_count": 3,
   "id": "fdb50f92-f39d-4b93-aaf2-a5c99acdaa37",
   "metadata": {},
   "outputs": [
    {
     "name": "stdout",
     "output_type": "stream",
     "text": [
      "  1           0 BUILD_LIST               0\n",
      "              2 LOAD_CONST               0 ((0, 0, 0))\n",
      "              4 LIST_EXTEND              1\n",
      "              6 RETURN_VALUE\n"
     ]
    }
   ],
   "source": [
    "dis.dis(\"[0,0,0]\")"
   ]
  },
  {
   "cell_type": "code",
   "execution_count": 5,
   "id": "77587830-5108-4d08-aa92-59638b7f0df8",
   "metadata": {},
   "outputs": [
    {
     "name": "stdout",
     "output_type": "stream",
     "text": [
      "  1           0 LOAD_CONST               0 (<code object <listcomp> at 0x000001777A6DEF50, file \"<dis>\", line 1>)\n",
      "              2 LOAD_CONST               1 ('<listcomp>')\n",
      "              4 MAKE_FUNCTION            0\n",
      "              6 LOAD_NAME                0 (range)\n",
      "              8 LOAD_CONST               2 (3)\n",
      "             10 CALL_FUNCTION            1\n",
      "             12 GET_ITER\n",
      "             14 CALL_FUNCTION            1\n",
      "             16 RETURN_VALUE\n",
      "\n",
      "Disassembly of <code object <listcomp> at 0x000001777A6DEF50, file \"<dis>\", line 1>:\n",
      "  1           0 BUILD_LIST               0\n",
      "              2 LOAD_FAST                0 (.0)\n",
      "        >>    4 FOR_ITER                 8 (to 14)\n",
      "              6 STORE_FAST               1 (_)\n",
      "              8 LOAD_CONST               0 (0)\n",
      "             10 LIST_APPEND              2\n",
      "             12 JUMP_ABSOLUTE            4\n",
      "        >>   14 RETURN_VALUE\n"
     ]
    }
   ],
   "source": [
    "dis.dis(\"[0 for _ in range(3)]\")"
   ]
  },
  {
   "cell_type": "code",
   "execution_count": null,
   "id": "4d2edc03-cf04-4c50-a6d6-1167633410b4",
   "metadata": {},
   "outputs": [],
   "source": []
  }
 ],
 "metadata": {
  "kernelspec": {
   "display_name": "Python 3 (ipykernel)",
   "language": "python",
   "name": "python3"
  },
  "language_info": {
   "codemirror_mode": {
    "name": "ipython",
    "version": 3
   },
   "file_extension": ".py",
   "mimetype": "text/x-python",
   "name": "python",
   "nbconvert_exporter": "python",
   "pygments_lexer": "ipython3",
   "version": "3.9.7"
  }
 },
 "nbformat": 4,
 "nbformat_minor": 5
}
