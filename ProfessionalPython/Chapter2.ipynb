{
 "cells": [
  {
   "cell_type": "markdown",
   "id": "e7a606af-4588-4c89-9850-cece86a417b8",
   "metadata": {},
   "source": [
    "# 上下文管理器\n",
    "## 定义"
   ]
  },
  {
   "cell_type": "code",
   "execution_count": 2,
   "id": "6e7fff18-e08f-4bc6-97d6-776e727c8dda",
   "metadata": {},
   "outputs": [],
   "source": [
    "# 大多数情况下,与装饰器是等价的\n",
    "# 进入时,保证代码执行的一致性,退出时,保证相关资源会被正确回收\n",
    "# 一定会有退出, 即使是发生了异常\n",
    "# 类似于 try...except...finally"
   ]
  },
  {
   "cell_type": "markdown",
   "id": "546dc06d-438b-4c5c-8a7c-24e0a263cf34",
   "metadata": {},
   "source": [
    "## 语法"
   ]
  },
  {
   "cell_type": "code",
   "execution_count": 4,
   "id": "2862e50b-654e-4461-a02f-8623e7c18976",
   "metadata": {},
   "outputs": [],
   "source": [
    "# try finally\n",
    "try:\n",
    "    file = open('Cp1.ipynb', 'r', encoding='utf8')\n",
    "    content = file.read()\n",
    "finally:\n",
    "    file.close()"
   ]
  },
  {
   "cell_type": "code",
   "execution_count": 5,
   "id": "84d68040-85dc-4ca2-9e10-7fc22b38a668",
   "metadata": {},
   "outputs": [],
   "source": [
    "# with\n",
    "with open('Cp1.ipynb', 'r', encoding='utf8') as f:\n",
    "    content = f.read()"
   ]
  },
  {
   "cell_type": "markdown",
   "id": "c4bdf327-b99a-4e72-bb13-c4a04539c27c",
   "metadata": {},
   "source": [
    "### enter 与 exit"
   ]
  },
  {
   "cell_type": "code",
   "execution_count": 12,
   "id": "308b4f2f-30b9-4646-b96b-36c4114bace5",
   "metadata": {},
   "outputs": [
    {
     "name": "stdout",
     "output_type": "stream",
     "text": [
      "False\n",
      "True\n"
     ]
    }
   ],
   "source": [
    "# 返回一个遵循特定协议的对象\n",
    "# 该对象必须定义一个__enter__与__exit__方法\n",
    "# __enter__只接受self\n",
    "# \t返回值赋值给as后面的变量\n",
    "# 且__exit__必须接受特定的参数\n",
    "# \tself\n",
    "# \t异常类型\n",
    "# \t异常实例\n",
    "# \t回溯\n",
    "\n",
    "class ContextManager:\n",
    "    def __init__(self):\n",
    "        self._entered = False\n",
    "        \n",
    "    def __enter__(self):\n",
    "        self._entered = True\n",
    "        return self\n",
    "        \n",
    "    def __exit__(self, exc_type, exc_instance, traceback):\n",
    "        self._entered = False\n",
    "c1 = ContextManager()\n",
    "print(c1._entered)\n",
    "\n",
    "with ContextManager() as c2:\n",
    "    print(c2._entered)"
   ]
  },
  {
   "cell_type": "markdown",
   "id": "f4e0d5b3-cafa-44ef-b336-1474cc77ce13",
   "metadata": {},
   "source": [
    "### 异常处理"
   ]
  },
  {
   "cell_type": "code",
   "execution_count": 13,
   "id": "89597830-e35f-48a9-923a-3f2dcae9ae82",
   "metadata": {},
   "outputs": [],
   "source": [
    "# 传播异常\n",
    "# 中止异常\n",
    "# 抛出不同的异常"
   ]
  },
  {
   "cell_type": "markdown",
   "id": "d3261343-de14-4429-a0f9-f74a42c58a53",
   "metadata": {},
   "source": [
    "## 何时写上下文处理器"
   ]
  },
  {
   "cell_type": "markdown",
   "id": "27db853e-ee8b-4ea6-98f2-4df1c10e9d7d",
   "metadata": {},
   "source": [
    "### 资源清理"
   ]
  },
  {
   "cell_type": "code",
   "execution_count": 14,
   "id": "fe783861-7395-46ab-afef-5915eae3c76b",
   "metadata": {},
   "outputs": [],
   "source": [
    "# 数据库连接\n",
    "# 例如PyMysql"
   ]
  },
  {
   "cell_type": "markdown",
   "id": "ca5e64f0-c3e2-4d9d-99d2-ecdbbd574d7f",
   "metadata": {},
   "source": [
    "### 避免重复\n",
    "#### 传播异常"
   ]
  },
  {
   "cell_type": "code",
   "execution_count": 23,
   "id": "35f68256-9abb-4b10-b263-07b151e911f7",
   "metadata": {},
   "outputs": [
    {
     "name": "stdout",
     "output_type": "stream",
     "text": [
      "in __exit__\n",
      "in __exit__\n",
      "division by zero\n"
     ]
    }
   ],
   "source": [
    "# __exit__的内容实现了\n",
    "# 发给它的异常被重新抛出\n",
    "class BubbleExc:\n",
    "    def __enter__(self):\n",
    "        return self\n",
    "    def __exit__(self, exc_type, exc_instance, traceback):\n",
    "        print('in __exit__')\n",
    "        if exc_instance:\n",
    "            print(exc_instance)\n",
    "        return False\n",
    "with BubbleExc():\n",
    "    5+5\n",
    "    \n",
    "with BubbleExc():\n",
    "    5 / 0"
   ]
  },
  {
   "cell_type": "markdown",
   "id": "272c997b-b26d-4c24-8c3f-ae55bcb46203",
   "metadata": {},
   "source": [
    "#### 终止异常"
   ]
  },
  {
   "cell_type": "code",
   "execution_count": 28,
   "id": "514886bc-7e34-4b0e-a0b2-dc6033a7b537",
   "metadata": {},
   "outputs": [
    {
     "name": "stdout",
     "output_type": "stream",
     "text": [
      "in __exit__\n",
      "in __exit__\n",
      "division by zero\n"
     ]
    },
    {
     "ename": "ZeroDivisionError",
     "evalue": "division by zero",
     "output_type": "error",
     "traceback": [
      "\u001b[1;31m---------------------------------------------------------------------------\u001b[0m",
      "\u001b[1;31mZeroDivisionError\u001b[0m                         Traceback (most recent call last)",
      "\u001b[1;32m~\\AppData\\Local\\Temp/ipykernel_13988/2733532279.py\u001b[0m in \u001b[0;36m<module>\u001b[1;34m\u001b[0m\n\u001b[0;32m     13\u001b[0m \u001b[1;33m\u001b[0m\u001b[0m\n\u001b[0;32m     14\u001b[0m \u001b[1;32mwith\u001b[0m \u001b[0mSuppressExc\u001b[0m\u001b[1;33m(\u001b[0m\u001b[1;33m)\u001b[0m\u001b[1;33m:\u001b[0m\u001b[1;33m\u001b[0m\u001b[1;33m\u001b[0m\u001b[0m\n\u001b[1;32m---> 15\u001b[1;33m     \u001b[1;36m5\u001b[0m \u001b[1;33m/\u001b[0m \u001b[1;36m0\u001b[0m\u001b[1;33m\u001b[0m\u001b[1;33m\u001b[0m\u001b[0m\n\u001b[0m\u001b[0;32m     16\u001b[0m     \u001b[0mprint\u001b[0m\u001b[1;33m(\u001b[0m\u001b[1;36m1\u001b[0m\u001b[1;33m)\u001b[0m\u001b[1;33m\u001b[0m\u001b[1;33m\u001b[0m\u001b[0m\n",
      "\u001b[1;31mZeroDivisionError\u001b[0m: division by zero"
     ]
    }
   ],
   "source": [
    "# __exit__的内容实现了\n",
    "# 发给它的异常被终止\n",
    "class SuppressExc:\n",
    "    def __enter__(self):\n",
    "        return self\n",
    "    def __exit__(self, exc_type, exc_instance, traceback):\n",
    "        print('in __exit__')\n",
    "        if exc_instance:\n",
    "            print(exc_instance)\n",
    "        return True\n",
    "with SuppressExc():\n",
    "    5+5\n",
    "    \n",
    "with SuppressExc():\n",
    "    5 / 0\n",
    "    print(1)"
   ]
  },
  {
   "cell_type": "code",
   "execution_count": 27,
   "id": "5fa4325e-4ffb-454e-9e4b-d7684beff3be",
   "metadata": {},
   "outputs": [
    {
     "name": "stdout",
     "output_type": "stream",
     "text": [
      "catch exception by context\n",
      "1\n",
      "in __exit__\n"
     ]
    }
   ],
   "source": [
    "# 在with中try了异常\n",
    "# 就不回传给上一层__exit__\n",
    "with SuppressExc():\n",
    "    try:\n",
    "        5 / 0\n",
    "    except ZeroDivisionError:\n",
    "        print('catch exception by context')\n",
    "    print(1)"
   ]
  },
  {
   "cell_type": "markdown",
   "id": "40075a45-ee4b-43b4-994b-1b5ee6a6a578",
   "metadata": {},
   "source": [
    "#### 处理特定异常类"
   ]
  },
  {
   "cell_type": "code",
   "execution_count": 30,
   "id": "a3aad37a-450c-474d-9524-77c5f575df2e",
   "metadata": {},
   "outputs": [
    {
     "name": "stdout",
     "output_type": "stream",
     "text": [
      "__exit__ handle a Value Error\n"
     ]
    },
    {
     "ename": "RuntimeError",
     "evalue": "",
     "output_type": "error",
     "traceback": [
      "\u001b[1;31m---------------------------------------------------------------------------\u001b[0m",
      "\u001b[1;31mRuntimeError\u001b[0m                              Traceback (most recent call last)",
      "\u001b[1;32m~\\AppData\\Local\\Temp/ipykernel_13988/2716100519.py\u001b[0m in \u001b[0;36m<module>\u001b[1;34m\u001b[0m\n\u001b[0;32m     15\u001b[0m \u001b[1;33m\u001b[0m\u001b[0m\n\u001b[0;32m     16\u001b[0m \u001b[1;32mwith\u001b[0m \u001b[0mHandleError\u001b[0m\u001b[1;33m(\u001b[0m\u001b[1;33m)\u001b[0m\u001b[1;33m:\u001b[0m\u001b[1;33m\u001b[0m\u001b[1;33m\u001b[0m\u001b[0m\n\u001b[1;32m---> 17\u001b[1;33m     \u001b[1;32mraise\u001b[0m \u001b[0mRuntimeError\u001b[0m\u001b[1;33m(\u001b[0m\u001b[1;33m)\u001b[0m\u001b[1;33m\u001b[0m\u001b[1;33m\u001b[0m\u001b[0m\n\u001b[0m",
      "\u001b[1;31mRuntimeError\u001b[0m: "
     ]
    }
   ],
   "source": [
    "# 能处理好就return True\n",
    "class HandleError:\n",
    "    def __enter__(self):\n",
    "        return self\n",
    "    \n",
    "    def __exit__(self, exc_type, exc_instance, traceback):\n",
    "        if exc_type is None:\n",
    "            return True\n",
    "        if issubclass(exc_type, ValueError):\n",
    "            print('__exit__ handle a Value Error')\n",
    "            return True\n",
    "        return False\n",
    "    \n",
    "with HandleError():\n",
    "    raise ValueError('test')\n",
    "    \n",
    "with HandleError():\n",
    "    raise RuntimeError()"
   ]
  },
  {
   "cell_type": "markdown",
   "id": "45f7f747-43ac-49be-a506-069beb4a5a74",
   "metadata": {},
   "source": [
    "#### 不包括的子类"
   ]
  },
  {
   "cell_type": "code",
   "execution_count": 33,
   "id": "ca8baf17-6864-4d1f-ba77-554559c8b64b",
   "metadata": {},
   "outputs": [
    {
     "name": "stdout",
     "output_type": "stream",
     "text": [
      "__exit__ handle a Value Error\n"
     ]
    },
    {
     "ename": "ValueErrorSubclass",
     "evalue": "",
     "output_type": "error",
     "traceback": [
      "\u001b[1;31m---------------------------------------------------------------------------\u001b[0m",
      "\u001b[1;31mValueErrorSubclass\u001b[0m                        Traceback (most recent call last)",
      "\u001b[1;32m~\\AppData\\Local\\Temp/ipykernel_13988/2102615219.py\u001b[0m in \u001b[0;36m<module>\u001b[1;34m\u001b[0m\n\u001b[0;32m     20\u001b[0m \u001b[1;33m\u001b[0m\u001b[0m\n\u001b[0;32m     21\u001b[0m \u001b[1;32mwith\u001b[0m \u001b[0mHandleError\u001b[0m\u001b[1;33m(\u001b[0m\u001b[1;33m)\u001b[0m\u001b[1;33m:\u001b[0m\u001b[1;33m\u001b[0m\u001b[1;33m\u001b[0m\u001b[0m\n\u001b[1;32m---> 22\u001b[1;33m     \u001b[1;32mraise\u001b[0m \u001b[0mValueErrorSubclass\u001b[0m\u001b[1;33m(\u001b[0m\u001b[1;33m)\u001b[0m\u001b[1;33m\u001b[0m\u001b[1;33m\u001b[0m\u001b[0m\n\u001b[0m",
      "\u001b[1;31mValueErrorSubclass\u001b[0m: "
     ]
    }
   ],
   "source": [
    "# 只捕获异常而不捕获它的子类\n",
    "class ValueErrorSubclass(ValueError):\n",
    "    pass\n",
    "\n",
    "class HandleError:\n",
    "\n",
    "    def __enter__(self):\n",
    "        return self\n",
    "    \n",
    "    def __exit__(self, exc_type, exc_instance, traceback):\n",
    "        if exc_type is None:\n",
    "            return True\n",
    "        if exc_type == ValueError:\n",
    "            print('__exit__ handle a Value Error')\n",
    "            return True\n",
    "        return False\n",
    "    \n",
    "with HandleError():\n",
    "    raise ValueError()\n",
    "    \n",
    "with HandleError():\n",
    "    raise ValueErrorSubclass()"
   ]
  },
  {
   "cell_type": "markdown",
   "id": "baba5c5e-7401-43f6-b43f-39f9dc6511ba",
   "metadata": {},
   "source": [
    "#### 基于属性的异常处理"
   ]
  },
  {
   "cell_type": "code",
   "execution_count": 42,
   "id": "668a537b-0eaa-4d17-afaf-7fccd0dd94c9",
   "metadata": {},
   "outputs": [
    {
     "ename": "ShellException",
     "evalue": "exit code 1- b\"rm: cannot remove '123.txt': No such file or directory\\n\"",
     "output_type": "error",
     "traceback": [
      "\u001b[1;31m---------------------------------------------------------------------------\u001b[0m",
      "\u001b[1;31mShellException\u001b[0m                            Traceback (most recent call last)",
      "\u001b[1;32m~\\AppData\\Local\\Temp/ipykernel_13988/2086617344.py\u001b[0m in \u001b[0;36m<module>\u001b[1;34m\u001b[0m\n\u001b[0;32m     20\u001b[0m     \u001b[1;32mreturn\u001b[0m \u001b[0mstdout\u001b[0m\u001b[1;33m\u001b[0m\u001b[1;33m\u001b[0m\u001b[0m\n\u001b[0;32m     21\u001b[0m \u001b[1;33m\u001b[0m\u001b[0m\n\u001b[1;32m---> 22\u001b[1;33m \u001b[0mrun_command\u001b[0m\u001b[1;33m(\u001b[0m\u001b[1;34m'rm 123.txt'\u001b[0m\u001b[1;33m)\u001b[0m\u001b[1;33m\u001b[0m\u001b[1;33m\u001b[0m\u001b[0m\n\u001b[0m",
      "\u001b[1;32m~\\AppData\\Local\\Temp/ipykernel_13988/2086617344.py\u001b[0m in \u001b[0;36mrun_command\u001b[1;34m(command)\u001b[0m\n\u001b[0;32m     17\u001b[0m \u001b[1;33m\u001b[0m\u001b[0m\n\u001b[0;32m     18\u001b[0m     \u001b[1;32mif\u001b[0m \u001b[0mproc\u001b[0m\u001b[1;33m.\u001b[0m\u001b[0mreturncode\u001b[0m \u001b[1;33m>\u001b[0m \u001b[1;36m0\u001b[0m\u001b[1;33m:\u001b[0m\u001b[1;33m\u001b[0m\u001b[1;33m\u001b[0m\u001b[0m\n\u001b[1;32m---> 19\u001b[1;33m         \u001b[1;32mraise\u001b[0m \u001b[0mShellException\u001b[0m\u001b[1;33m(\u001b[0m\u001b[0mproc\u001b[0m\u001b[1;33m.\u001b[0m\u001b[0mreturncode\u001b[0m\u001b[1;33m,\u001b[0m \u001b[0mstdout\u001b[0m\u001b[1;33m,\u001b[0m \u001b[0mstderr\u001b[0m\u001b[1;33m)\u001b[0m\u001b[1;33m\u001b[0m\u001b[1;33m\u001b[0m\u001b[0m\n\u001b[0m\u001b[0;32m     20\u001b[0m     \u001b[1;32mreturn\u001b[0m \u001b[0mstdout\u001b[0m\u001b[1;33m\u001b[0m\u001b[1;33m\u001b[0m\u001b[0m\n\u001b[0;32m     21\u001b[0m \u001b[1;33m\u001b[0m\u001b[0m\n",
      "\u001b[1;31mShellException\u001b[0m: exit code 1- b\"rm: cannot remove '123.txt': No such file or directory\\n\""
     ]
    }
   ],
   "source": [
    "import subprocess\n",
    "\n",
    "class ShellException(Exception):\n",
    "    def __init__(self, code, stdout='', stderr=''):\n",
    "        self.code = code\n",
    "        self.stdout = stdout\n",
    "        self.stderr = stderr\n",
    "        \n",
    "    def __str__(self):\n",
    "        return f'exit code {self.code}- {self.stderr}'\n",
    "    \n",
    "    \n",
    "def run_command(command):\n",
    "    proc = subprocess.Popen(command.split(), stdout=subprocess.PIPE, stderr=subprocess.PIPE)\n",
    "    proc.wait()\n",
    "    stdout, stderr = proc.communicate()\n",
    "    \n",
    "    if proc.returncode > 0:\n",
    "        raise ShellException(proc.returncode, stdout, stderr)\n",
    "    return stdout\n",
    "\n",
    "run_command('rm 123.txt')"
   ]
  },
  {
   "cell_type": "markdown",
   "id": "df8ddbbd-aa15-4ad8-be32-f7e292db1c99",
   "metadata": {},
   "source": [
    "## 更简单的语法"
   ]
  },
  {
   "cell_type": "code",
   "execution_count": 46,
   "id": "82d71733-5577-4f7e-b536-604caf2c1940",
   "metadata": {},
   "outputs": [
    {
     "name": "stdout",
     "output_type": "stream",
     "text": [
      "get code 1\n"
     ]
    }
   ],
   "source": [
    "import os\n",
    "import contextlib\n",
    "\n",
    "@contextlib.contextmanager\n",
    "def accept_error_codes(*codes):\n",
    "    try:\n",
    "        yield\n",
    "    except ShellException as exc_instance:\n",
    "        if exc_instance.code not in codes:\n",
    "            raise\n",
    "        print('get code', exc_instance.code)\n",
    "        pass\n",
    "    \n",
    "with accept_error_codes(1):\n",
    "    run_command('rm 123.txt')"
   ]
  },
  {
   "cell_type": "code",
   "execution_count": null,
   "id": "528d8a04-9fd4-4642-9ba5-b4df1b38653c",
   "metadata": {},
   "outputs": [],
   "source": []
  }
 ],
 "metadata": {
  "kernelspec": {
   "display_name": "Python 3 (ipykernel)",
   "language": "python",
   "name": "python3"
  },
  "language_info": {
   "codemirror_mode": {
    "name": "ipython",
    "version": 3
   },
   "file_extension": ".py",
   "mimetype": "text/x-python",
   "name": "python",
   "nbconvert_exporter": "python",
   "pygments_lexer": "ipython3",
   "version": "3.9.7"
  },
  "toc-autonumbering": true
 },
 "nbformat": 4,
 "nbformat_minor": 5
}
