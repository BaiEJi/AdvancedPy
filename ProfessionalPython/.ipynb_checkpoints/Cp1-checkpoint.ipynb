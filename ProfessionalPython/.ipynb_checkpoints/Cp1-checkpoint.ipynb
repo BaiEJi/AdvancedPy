{
 "cells": [
  {
   "cell_type": "markdown",
   "id": "68d0c591-c367-4c71-a0e1-5b4719e28424",
   "metadata": {},
   "source": [
    "# A example of decorate"
   ]
  },
  {
   "cell_type": "code",
   "execution_count": 1,
   "id": "a43d95c3-00c4-421b-98b6-a1d4740153c2",
   "metadata": {},
   "outputs": [
    {
     "name": "stdout",
     "output_type": "stream",
     "text": [
      "Help on function add in module __main__:\n",
      "\n",
      "add(x, y)\n",
      "    return the sum of x and y\n",
      "    it decorated by decorated_by\n",
      "\n",
      "Help on function add in module __main__:\n",
      "\n",
      "add(x, y)\n",
      "    return the sum of x and y\n",
      "    it decorated by decorated_by\n",
      "    it decorated by decorated_by\n",
      "\n"
     ]
    }
   ],
   "source": [
    "def decorated_by(func):\n",
    "    func.__doc__ += '\\n it decorated by decorated_by'\n",
    "    return func\n",
    "\n",
    "@decorated_by\n",
    "def add(x, y):\n",
    "    '''return the sum of x and y'''\n",
    "    return x + y\n",
    "\n",
    "# 两种方式创建的装饰器是一样的\n",
    "help(add)\n",
    "help(decorated_by(add))"
   ]
  },
  {
   "cell_type": "code",
   "execution_count": 2,
   "id": "dd24db1d-e031-435b-8829-f1f66c270cbc",
   "metadata": {},
   "outputs": [
    {
     "name": "stdout",
     "output_type": "stream",
     "text": [
      "Help on function add in module __main__:\n",
      "\n",
      "add(x, y)\n",
      "    return the sum of x and y\n",
      "    it decorated by decorated_by\n",
      "    it decorated by also_decorated_by\n",
      "\n",
      "Help on function add in module __main__:\n",
      "\n",
      "add(x, y)\n",
      "    return the sum of x and y\n",
      "    it decorated by decorated_by\n",
      "    it decorated by also_decorated_by\n",
      "    it decorated by decorated_by\n",
      "    it decorated by also_decorated_by\n",
      "\n"
     ]
    }
   ],
   "source": [
    "# 装饰器应用的顺序是自底向上的\n",
    "\n",
    "def also_decorated_by(func):\n",
    "    func.__doc__ += '\\n it decorated by also_decorated_by'\n",
    "    return func\n",
    "\n",
    "def decorated_by(func):\n",
    "    func.__doc__ += '\\n it decorated by decorated_by'\n",
    "    return func\n",
    "\n",
    "@also_decorated_by\n",
    "@decorated_by\n",
    "def add(x, y):\n",
    "    '''return the sum of x and y'''\n",
    "    return x + y\n",
    "\n",
    "help(add)\n",
    "# 顺序和下面一样的\n",
    "help(also_decorated_by(decorated_by(add)))"
   ]
  },
  {
   "cell_type": "markdown",
   "id": "2442c86e-f66f-45b5-9715-7097605f8a7d",
   "metadata": {},
   "source": [
    "# How to use Decorate\n",
    "## Register\n",
    "### A func register"
   ]
  },
  {
   "cell_type": "code",
   "execution_count": 3,
   "id": "0f53a3eb-772f-4f7c-92a8-3e6096dd0626",
   "metadata": {},
   "outputs": [
    {
     "data": {
      "text/plain": [
       "8"
      ]
     },
     "execution_count": 3,
     "metadata": {},
     "output_type": "execute_result"
    }
   ],
   "source": [
    "# 函数注册表\n",
    "# 可以遍历注册表找到所有的函数\n",
    "registry = []\n",
    "\n",
    "def register(func):\n",
    "    registry.append(func)\n",
    "    return func\n",
    "\n",
    "@register\n",
    "def foo1():\n",
    "    return 5\n",
    "@register\n",
    "def foo2():\n",
    "    return 3\n",
    "\n",
    "answer = 0\n",
    "for func in registry:\n",
    "    answer += func()\n",
    "\n",
    "answer"
   ]
  },
  {
   "cell_type": "markdown",
   "id": "7374a7e9-89c3-4b36-9b30-4fc379a6dc37",
   "metadata": {},
   "source": [
    "### Separate registry"
   ]
  },
  {
   "cell_type": "code",
   "execution_count": 4,
   "id": "67e9ce71-3268-4d26-bb6d-65841122229a",
   "metadata": {},
   "outputs": [
    {
     "name": "stdout",
     "output_type": "stream",
     "text": [
      "<function foo at 0x000001A6B39E8430>\n",
      "<function bar at 0x000001A6B39E8940>\n",
      "<function bar at 0x000001A6B39E8940>\n",
      "[6, 6]\n",
      "[4]\n",
      "[3, 5]\n"
     ]
    }
   ],
   "source": [
    "class Registry:\n",
    "    def __init__(self):\n",
    "        self._functions = []\n",
    "    def register(self, func):\n",
    "        print(func)\n",
    "        self._functions.append(func)\n",
    "        return func\n",
    "    def run_all(self, *args, **kwargs):\n",
    "        return_value = []\n",
    "        for func in self._functions:\n",
    "            return_value.append(func(*args, **kwargs))\n",
    "        return return_value\n",
    "    \n",
    "a = Registry()\n",
    "b = Registry()\n",
    "\n",
    "@a.register\n",
    "def foo(x = 3):\n",
    "    return x\n",
    "\n",
    "@a.register\n",
    "@b.register\n",
    "def bar(x=5):\n",
    "    return x\n",
    "\n",
    "print(a.run_all(x=6))\n",
    "print(b.run_all(x=4))\n",
    "print(a.run_all())"
   ]
  },
  {
   "cell_type": "markdown",
   "id": "7c1d9fe2-8686-4401-a159-dd3b1ff15319",
   "metadata": {},
   "source": [
    "## 执行时封装代码\n",
    "### type check"
   ]
  },
  {
   "cell_type": "code",
   "execution_count": 10,
   "id": "e9e474a1-efa2-409c-90bc-9754ec36618e",
   "metadata": {},
   "outputs": [
    {
     "name": "stdout",
     "output_type": "stream",
     "text": [
      "Help on function inner in module __main__:\n",
      "\n",
      "inner(*args, **kwargs)\n",
      "\n",
      "3\n"
     ]
    },
    {
     "ename": "TypeError",
     "evalue": "we need int",
     "output_type": "error",
     "traceback": [
      "\u001b[1;31m---------------------------------------------------------------------------\u001b[0m",
      "\u001b[1;31mTypeError\u001b[0m                                 Traceback (most recent call last)",
      "\u001b[1;32m~\\AppData\\Local\\Temp/ipykernel_19920/1746531300.py\u001b[0m in \u001b[0;36m<module>\u001b[1;34m\u001b[0m\n\u001b[0;32m     14\u001b[0m \u001b[0mhelp\u001b[0m\u001b[1;33m(\u001b[0m\u001b[0mfoo\u001b[0m\u001b[1;33m)\u001b[0m\u001b[1;33m\u001b[0m\u001b[1;33m\u001b[0m\u001b[0m\n\u001b[0;32m     15\u001b[0m \u001b[0mfoo\u001b[0m\u001b[1;33m(\u001b[0m\u001b[1;36m1\u001b[0m\u001b[1;33m,\u001b[0m\u001b[1;36m2\u001b[0m\u001b[1;33m,\u001b[0m\u001b[1;36m3\u001b[0m\u001b[1;33m,\u001b[0m\u001b[1;36m4\u001b[0m\u001b[1;33m)\u001b[0m\u001b[1;33m\u001b[0m\u001b[1;33m\u001b[0m\u001b[0m\n\u001b[1;32m---> 16\u001b[1;33m \u001b[0mfoo\u001b[0m\u001b[1;33m(\u001b[0m\u001b[1;34m'1'\u001b[0m\u001b[1;33m,\u001b[0m \u001b[1;34m'2'\u001b[0m\u001b[1;33m)\u001b[0m\u001b[1;33m\u001b[0m\u001b[1;33m\u001b[0m\u001b[0m\n\u001b[0m",
      "\u001b[1;32m~\\AppData\\Local\\Temp/ipykernel_19920/1746531300.py\u001b[0m in \u001b[0;36minner\u001b[1;34m(*args, **kwargs)\u001b[0m\n\u001b[0;32m      5\u001b[0m         \u001b[1;32mfor\u001b[0m \u001b[0marg\u001b[0m \u001b[1;32min\u001b[0m \u001b[0mlist\u001b[0m\u001b[1;33m(\u001b[0m\u001b[0margs\u001b[0m\u001b[1;33m)\u001b[0m \u001b[1;33m+\u001b[0m \u001b[0mkwarg_values\u001b[0m\u001b[1;33m:\u001b[0m\u001b[1;33m\u001b[0m\u001b[1;33m\u001b[0m\u001b[0m\n\u001b[0;32m      6\u001b[0m             \u001b[1;32mif\u001b[0m \u001b[1;32mnot\u001b[0m \u001b[0misinstance\u001b[0m\u001b[1;33m(\u001b[0m\u001b[0marg\u001b[0m\u001b[1;33m,\u001b[0m \u001b[0mint\u001b[0m\u001b[1;33m)\u001b[0m\u001b[1;33m:\u001b[0m\u001b[1;33m\u001b[0m\u001b[1;33m\u001b[0m\u001b[0m\n\u001b[1;32m----> 7\u001b[1;33m                 \u001b[1;32mraise\u001b[0m \u001b[0mTypeError\u001b[0m\u001b[1;33m(\u001b[0m\u001b[1;34m'we need int'\u001b[0m\u001b[1;33m)\u001b[0m\u001b[1;33m\u001b[0m\u001b[1;33m\u001b[0m\u001b[0m\n\u001b[0m\u001b[0;32m      8\u001b[0m         \u001b[1;32mreturn\u001b[0m \u001b[0mfunc\u001b[0m\u001b[1;33m(\u001b[0m\u001b[1;33m*\u001b[0m\u001b[0margs\u001b[0m\u001b[1;33m,\u001b[0m \u001b[1;33m**\u001b[0m\u001b[0mkwargs\u001b[0m\u001b[1;33m)\u001b[0m\u001b[1;33m\u001b[0m\u001b[1;33m\u001b[0m\u001b[0m\n\u001b[0;32m      9\u001b[0m     \u001b[1;32mreturn\u001b[0m \u001b[0minner\u001b[0m\u001b[1;33m\u001b[0m\u001b[1;33m\u001b[0m\u001b[0m\n",
      "\u001b[1;31mTypeError\u001b[0m: we need int"
     ]
    }
   ],
   "source": [
    "def requires_ints(func):\n",
    "    def inner(*args, **kwargs):\n",
    "        kwarg_values = [i for i in kwargs.values()]\n",
    "        \n",
    "        for arg in list(args) + kwarg_values:\n",
    "            if not isinstance(arg, int):\n",
    "                raise TypeError('we need int')\n",
    "        return func(*args, **kwargs)\n",
    "    return inner\n",
    "\n",
    "@requires_ints\n",
    "def foo(x, y, *args):\n",
    "    print(x + y)\n",
    "help(foo)  \n",
    "foo(1,2,3,4)\n",
    "foo('1', '2')"
   ]
  },
  {
   "cell_type": "markdown",
   "id": "63de0540-4fc2-4c1a-8f80-fe0fa5611c5a",
   "metadata": {},
   "source": [
    "### Preserving the help"
   ]
  },
  {
   "cell_type": "code",
   "execution_count": 11,
   "id": "c2fb6f89-1597-436e-af1c-ca26050eec7d",
   "metadata": {},
   "outputs": [
    {
     "name": "stdout",
     "output_type": "stream",
     "text": [
      "Help on function foo in module __main__:\n",
      "\n",
      "foo(x, y, *args)\n",
      "\n"
     ]
    }
   ],
   "source": [
    "from functools import wraps\n",
    "\n",
    "def requires_ints(func):\n",
    "    @wraps(func)\n",
    "    def inner(*args, **kwargs):\n",
    "        kwarg_values = [i for i in kwargs.values()]\n",
    "        \n",
    "        for arg in list(args) + kwarg_values:\n",
    "            if not isinstance(arg, int):\n",
    "                raise TypeError('we need int')\n",
    "        return func(*args, **kwargs)\n",
    "    return inner\n",
    "\n",
    "@requires_ints\n",
    "def foo(x, y, *args):\n",
    "    print(x + y)\n",
    "\n",
    "# 保存了原有的__doc__\n",
    "help(foo)"
   ]
  },
  {
   "cell_type": "markdown",
   "id": "5b2453f4-e86b-4442-8a56-e61691ed302b",
   "metadata": {},
   "source": [
    "### User Verification"
   ]
  },
  {
   "cell_type": "code",
   "execution_count": 3,
   "id": "56f0afbb-cb18-4977-a146-4ace3466c982",
   "metadata": {},
   "outputs": [
    {
     "name": "stdout",
     "output_type": "stream",
     "text": [
      "8\n"
     ]
    },
    {
     "ename": "ValueError",
     "evalue": "we need a user",
     "output_type": "error",
     "traceback": [
      "\u001b[1;31m---------------------------------------------------------------------------\u001b[0m",
      "\u001b[1;31mValueError\u001b[0m                                Traceback (most recent call last)",
      "\u001b[1;32m~\\AppData\\Local\\Temp/ipykernel_13640/3066984752.py\u001b[0m in \u001b[0;36m<module>\u001b[1;34m\u001b[0m\n\u001b[0;32m     27\u001b[0m \u001b[1;33m\u001b[0m\u001b[0m\n\u001b[0;32m     28\u001b[0m \u001b[0mfoo\u001b[0m\u001b[1;33m(\u001b[0m\u001b[0mUser\u001b[0m\u001b[1;33m(\u001b[0m\u001b[1;34m'lzy'\u001b[0m\u001b[1;33m,\u001b[0m \u001b[1;34m'1@qq.com'\u001b[0m\u001b[1;33m)\u001b[0m\u001b[1;33m,\u001b[0m \u001b[1;36m3\u001b[0m\u001b[1;33m,\u001b[0m \u001b[1;36m5\u001b[0m\u001b[1;33m)\u001b[0m\u001b[1;33m\u001b[0m\u001b[1;33m\u001b[0m\u001b[0m\n\u001b[1;32m---> 29\u001b[1;33m \u001b[0mfoo\u001b[0m\u001b[1;33m(\u001b[0m\u001b[0mAnonymousUser\u001b[0m\u001b[1;33m(\u001b[0m\u001b[1;33m)\u001b[0m\u001b[1;33m,\u001b[0m \u001b[1;36m3\u001b[0m\u001b[1;33m,\u001b[0m \u001b[1;36m5\u001b[0m\u001b[1;33m)\u001b[0m\u001b[1;33m\u001b[0m\u001b[1;33m\u001b[0m\u001b[0m\n\u001b[0m",
      "\u001b[1;32m~\\AppData\\Local\\Temp/ipykernel_13640/3066984752.py\u001b[0m in \u001b[0;36minner\u001b[1;34m(user, *args, **kwargs)\u001b[0m\n\u001b[0;32m     19\u001b[0m             \u001b[1;32mreturn\u001b[0m \u001b[0mfunc\u001b[0m\u001b[1;33m(\u001b[0m\u001b[0muser\u001b[0m\u001b[1;33m,\u001b[0m \u001b[1;33m*\u001b[0m\u001b[0margs\u001b[0m\u001b[1;33m,\u001b[0m \u001b[1;33m**\u001b[0m\u001b[0mkwargs\u001b[0m\u001b[1;33m)\u001b[0m\u001b[1;33m\u001b[0m\u001b[1;33m\u001b[0m\u001b[0m\n\u001b[0;32m     20\u001b[0m         \u001b[1;32melse\u001b[0m\u001b[1;33m:\u001b[0m\u001b[1;33m\u001b[0m\u001b[1;33m\u001b[0m\u001b[0m\n\u001b[1;32m---> 21\u001b[1;33m             \u001b[1;32mraise\u001b[0m \u001b[0mValueError\u001b[0m\u001b[1;33m(\u001b[0m\u001b[1;34m\"we need a user\"\u001b[0m\u001b[1;33m)\u001b[0m\u001b[1;33m\u001b[0m\u001b[1;33m\u001b[0m\u001b[0m\n\u001b[0m\u001b[0;32m     22\u001b[0m     \u001b[1;32mreturn\u001b[0m \u001b[0minner\u001b[0m\u001b[1;33m\u001b[0m\u001b[1;33m\u001b[0m\u001b[0m\n\u001b[0;32m     23\u001b[0m \u001b[1;33m\u001b[0m\u001b[0m\n",
      "\u001b[1;31mValueError\u001b[0m: we need a user"
     ]
    }
   ],
   "source": [
    "class User:\n",
    "    def __init__(self, name, email):\n",
    "        self.name = name\n",
    "        self.email = email\n",
    "\n",
    "class AnonymousUser:\n",
    "    def __init__(self):\n",
    "        self.name = None\n",
    "        self.email = None\n",
    "    def __nonzero__(self):\n",
    "        return False\n",
    "    \n",
    "import functools\n",
    "\n",
    "def require_user(func):\n",
    "    @functools.wraps(func)\n",
    "    def inner(user, *args, **kwargs):\n",
    "        if user and isinstance(user, User):\n",
    "            return func(user, *args, **kwargs)\n",
    "        else:\n",
    "            raise ValueError(\"we need a user\")\n",
    "    return inner\n",
    "\n",
    "@require_user\n",
    "def foo(user, x, y):\n",
    "    print(x + y)\n",
    "    \n",
    "foo(User('lzy', '1@qq.com'), 3, 5)\n",
    "foo(AnonymousUser(), 3, 5)"
   ]
  },
  {
   "cell_type": "markdown",
   "id": "eae4202a-ed72-41e8-b806-19c795a93b08",
   "metadata": {},
   "source": [
    "### output formatting"
   ]
  },
  {
   "cell_type": "code",
   "execution_count": 14,
   "id": "eab7aba6-33a6-487b-900a-70b27d39a769",
   "metadata": {},
   "outputs": [
    {
     "name": "stdout",
     "output_type": "stream",
     "text": [
      "{\"a\": 1, \"b\": 2} <class 'str'>\n"
     ]
    }
   ],
   "source": [
    "import functools\n",
    "import json\n",
    "def json_output(func):\n",
    "    @functools.wraps(func)\n",
    "    def inner(*args, **kwargs):\n",
    "        return json.dumps(func(*args, **kwargs))\n",
    "    return inner\n",
    "\n",
    "@json_output\n",
    "def foo():\n",
    "    return {'a':1, 'b':2}\n",
    "\n",
    "print(foo(), type(foo()))"
   ]
  },
  {
   "cell_type": "code",
   "execution_count": 19,
   "id": "09d1e0b7-2922-413b-a231-29580a65ba61",
   "metadata": {},
   "outputs": [
    {
     "data": {
      "text/plain": [
       "'{\"status\": \"error\", \"message\": \"json error\"}'"
      ]
     },
     "execution_count": 19,
     "metadata": {},
     "output_type": "execute_result"
    }
   ],
   "source": [
    "class JsonOutputError(Exception):\n",
    "    def __init__(self, message):\n",
    "        self._message = message\n",
    "    def __str__(self):\n",
    "        return self._message\n",
    "    \n",
    "def json_output(func):\n",
    "    @functools.wraps(func)\n",
    "    def inner(*args, **kwargs):\n",
    "        try:\n",
    "            result = func(*args, **kwargs)\n",
    "        except JsonOutputError as e:\n",
    "            result = {'status': 'error',\n",
    "                      'message': str(e)}\n",
    "        return json.dumps(result)\n",
    "    return inner\n",
    "\n",
    "\n",
    "# 对于其他类型的Exception, 还是可以TraceBack的\n",
    "@json_output\n",
    "def foo():\n",
    "    raise JsonOutputError('json error')\n",
    "#     raise ValueError('value error')\n",
    "#     return {'a':1, 'b':2}\n",
    "\n",
    "foo()"
   ]
  },
  {
   "cell_type": "markdown",
   "id": "94ab8cad-4523-4707-9ca2-ccc2deb62e87",
   "metadata": {},
   "source": [
    "### logging"
   ]
  },
  {
   "cell_type": "code",
   "execution_count": 21,
   "id": "a0b2863b-a566-47bd-bf89-c099d70dfa67",
   "metadata": {},
   "outputs": [
    {
     "name": "stderr",
     "output_type": "stream",
     "text": [
      "WARNING:root:foo excute time 0.0, return 42\n"
     ]
    },
    {
     "data": {
      "text/plain": [
       "42"
      ]
     },
     "execution_count": 21,
     "metadata": {},
     "output_type": "execute_result"
    }
   ],
   "source": [
    "import functools\n",
    "import time\n",
    "import logging\n",
    "\n",
    "def logged(func):\n",
    "    @functools.wraps(func)\n",
    "    def inner(*args, **kwargs):\n",
    "        start = time.time()\n",
    "        return_value = func(*args, **kwargs)\n",
    "        delta = time.time() - start\n",
    "        logger = logging.warning(f'{func.__name__} excute time {delta}, return {return_value}')\n",
    "        return return_value\n",
    "    return inner\n",
    "\n",
    "@logged\n",
    "def foo(x):\n",
    "    return x\n",
    "\n",
    "foo(42)"
   ]
  },
  {
   "cell_type": "markdown",
   "id": "ff59a679-f62f-40f3-8c8f-d8bb5a85bb1e",
   "metadata": {},
   "source": [
    "## Decorator Args"
   ]
  },
  {
   "cell_type": "code",
   "execution_count": 23,
   "id": "d461d7c0-7aa0-4fd7-962c-af4ddcbe718e",
   "metadata": {},
   "outputs": [
    {
     "name": "stdout",
     "output_type": "stream",
     "text": [
      "{\n",
      "    \"status\": \"error\",\n",
      "    \"message\": \"json error\"\n",
      "}\n"
     ]
    }
   ],
   "source": [
    "'''\n",
    "多了一层封装\n",
    "因为他不是实际的装饰器\n",
    "而是一个返回装饰器的函数\n",
    "'''\n",
    "\n",
    "import functools, json\n",
    "class JsonOutputError(Exception):\n",
    "    def __init__(self, message):\n",
    "        self._message = message\n",
    "    def __str__(self):\n",
    "        return self._message\n",
    "\n",
    "def json_output(indent=None, sort_keys=False):\n",
    "    def actual_decorator(func):\n",
    "        @functools.wraps(func)\n",
    "        def inner(*args, **kwargs):\n",
    "            try:\n",
    "                result = func(*args, **kwargs)\n",
    "            except JsonOutputError as e:\n",
    "                result = {'status': 'error',\n",
    "                          'message': str(e)}\n",
    "            return json.dumps(result, indent=indent, sort_keys=sort_keys)\n",
    "        return inner\n",
    "    return actual_decorator\n",
    "\n",
    "@json_output(indent=4)\n",
    "def foo():\n",
    "    raise JsonOutputError('json error')\n",
    "#     return {'a':1, 'b':2}\n",
    "\n",
    "print(foo())"
   ]
  },
  {
   "cell_type": "markdown",
   "id": "d22aedf2-7c15-4ba7-9f3a-a48f88bd361d",
   "metadata": {},
   "source": [
    "### The Call Signature Matters"
   ]
  },
  {
   "cell_type": "code",
   "execution_count": 28,
   "id": "33b35293-6489-4442-bd92-806a104b29db",
   "metadata": {},
   "outputs": [
    {
     "name": "stdout",
     "output_type": "stream",
     "text": [
      "{\n",
      "    \"status\": \"error\",\n",
      "    \"message\": \"json error\"\n",
      "}\n"
     ]
    }
   ],
   "source": [
    "'''\n",
    "就算装饰器函数有默认参数\n",
    "在调用的时候不传参\n",
    "也必须@<Name>(),不能没有括号\n",
    "'''\n",
    "# 因此我们需要一个对于有无括号都好使的装饰器\n",
    "\n",
    "import functools, json\n",
    "class JsonOutputError(Exception):\n",
    "    def __init__(self, message):\n",
    "        self._message = message\n",
    "    def __str__(self):\n",
    "        return self._message\n",
    "\n",
    "def json_output(decorated_=None, indent=None, sort_keys=False):\n",
    "    if decorated_ and (indent or sort_keys):\n",
    "        raise ValueError('unexpected args')\n",
    "    def actual_decorator(func):\n",
    "        @functools.wraps(func)\n",
    "        def inner(*args, **kwargs):\n",
    "            try:\n",
    "                result = func(*args, **kwargs)\n",
    "            except JsonOutputError as e:\n",
    "                result = {'status': 'error',\n",
    "                          'message': str(e)}\n",
    "            return json.dumps(result, indent=indent, sort_keys=sort_keys)\n",
    "        return inner\n",
    "    \n",
    "    # !!!!!\n",
    "    if decorated_:\n",
    "        return actual_decorator(decorated_)\n",
    "    else:\n",
    "        return actual_decorator\n",
    "\n",
    "@json_output(indent=4)\n",
    "def foo():\n",
    "    raise JsonOutputError('json error')\n",
    "#     return {'a':1, 'b':2}\n",
    "\n",
    "print(foo())"
   ]
  },
  {
   "cell_type": "markdown",
   "id": "5e7a7e7c-ca79-4bd3-94c6-4360cefaa76e",
   "metadata": {},
   "source": [
    "### test"
   ]
  },
  {
   "cell_type": "code",
   "execution_count": 32,
   "id": "f6fddd91-7eaf-4c74-84bd-9f89e5005e13",
   "metadata": {},
   "outputs": [
    {
     "name": "stderr",
     "output_type": "stream",
     "text": [
      "WARNING:root:Tue Apr 26 18:03:00 2022\n",
      "WARNING:root:Tue Apr 26 18:03:00 2022\n",
      "WARNING:root:Tue Apr 26 18:03:00 2022\n"
     ]
    }
   ],
   "source": [
    "import logging\n",
    "import time\n",
    "import functools\n",
    "\n",
    "def logged(func=None, times=None):\n",
    "    if func and times:\n",
    "        raise ValueError('unexpected args')\n",
    "    times = 1 if not times else times\n",
    "    @functools.wraps(func)\n",
    "    def actual_func(func):\n",
    "        def inner(*args, **kwargs):\n",
    "            # 返回函数中定义的函数\n",
    "            # 里层函数所使用的外层函数的变量\n",
    "            # 会被保存\n",
    "            for i in range(times):\n",
    "                logging.warning(time.ctime())\n",
    "            func(*args, **kwargs)\n",
    "        return inner\n",
    "    \n",
    "    if func:\n",
    "        return actual_func(func)\n",
    "    else:\n",
    "        return actual_func\n",
    "    \n",
    "@logged(times=3)\n",
    "def foo():\n",
    "    pass\n",
    "    \n",
    "foo()"
   ]
  },
  {
   "cell_type": "markdown",
   "id": "3045cd57-903b-4805-a826-bf88e69a1c7d",
   "metadata": {},
   "source": [
    "## Decorating Classes"
   ]
  },
  {
   "cell_type": "code",
   "execution_count": 37,
   "id": "8d90fcde-1e28-4070-afe4-4ce471c7c67e",
   "metadata": {},
   "outputs": [
    {
     "name": "stdout",
     "output_type": "stream",
     "text": [
      "False\n"
     ]
    }
   ],
   "source": [
    "# 使用装饰器装饰一个类\n",
    "\n",
    "import functools\n",
    "import time\n",
    "\n",
    "def sorted_by_creation_time(cls):\n",
    "    origin_init = cls.__init__\n",
    "    \n",
    "    @functools.wraps(origin_init)\n",
    "    def new_init(self, *args, **kwargs):\n",
    "        origin_init(self, *args, **kwargs)\n",
    "        self._create = time.time()\n",
    "    cls.__init__ = new_init\n",
    "    cls.__lt__ = lambda self, other : self._create < other._create\n",
    "    return cls\n",
    "\n",
    "@sorted_by_creation_time\n",
    "class SortAble:\n",
    "    def __init__(self, name):\n",
    "        self.name = name\n",
    "    def __repr__(self):\n",
    "        return self.name\n",
    "    __str__ = __repr__\n",
    "\n",
    "first = SortAble('first')\n",
    "time.sleep(0.1)\n",
    "second = SortAble('second')\n",
    "print(first > second)"
   ]
  },
  {
   "cell_type": "code",
   "execution_count": 41,
   "id": "932be22c-27d2-40fe-9703-38ff386af17e",
   "metadata": {},
   "outputs": [
    {
     "name": "stdout",
     "output_type": "stream",
     "text": [
      "False\n"
     ]
    }
   ],
   "source": [
    "# 可以用于解决问题,但不一定是最佳\n",
    "# 使用MixIn\n",
    "class RecordTime:\n",
    "    def __init__(self):\n",
    "        self._create = time.time()\n",
    "    def __lt__(self, other):\n",
    "        return self._create < other._create\n",
    "    \n",
    "class SortAble2(RecordTime):\n",
    "    def __init__(self, name):\n",
    "        super().__init__()\n",
    "        self.name = name\n",
    "        \n",
    "    def __repr__(self):\n",
    "        return self.name\n",
    "\n",
    "first = SortAble2('first')\n",
    "time.sleep(0.1)\n",
    "second = SortAble2('second')\n",
    "print(first > second)"
   ]
  },
  {
   "cell_type": "markdown",
   "id": "ab7059ad-f187-48c7-80b6-41008ec17f8e",
   "metadata": {},
   "source": [
    "# 补充知识点\n",
    "## Class作为一个装饰器"
   ]
  },
  {
   "cell_type": "code",
   "execution_count": 43,
   "id": "db6593c1-2106-4d5d-b999-7b6244d2ba57",
   "metadata": {},
   "outputs": [
    {
     "name": "stdout",
     "output_type": "stream",
     "text": [
      "runtime 0.0\n"
     ]
    },
    {
     "data": {
      "text/plain": [
       "5"
      ]
     },
     "execution_count": 43,
     "metadata": {},
     "output_type": "execute_result"
    }
   ],
   "source": [
    "import time\n",
    "\n",
    "class Timer:\n",
    "    def __init__(self, func):\n",
    "        self.func = func\n",
    "        \n",
    "    def __call__(self, *args, **kwargs):\n",
    "        start = time.time()\n",
    "        ret = self.func(*args, **kwargs)\n",
    "        print(f'runtime {(time.time()-start)*1000}')\n",
    "        return ret\n",
    "    \n",
    "@Timer\n",
    "def add(x, y):\n",
    "    return x+y\n",
    "\n",
    "add(2,3)"
   ]
  },
  {
   "cell_type": "code",
   "execution_count": 48,
   "id": "426539e5-7332-49ac-821e-01f76881d5a6",
   "metadata": {},
   "outputs": [
    {
     "name": "stdout",
     "output_type": "stream",
     "text": [
      "curr_timeruntime 0.0\n"
     ]
    },
    {
     "data": {
      "text/plain": [
       "5"
      ]
     },
     "execution_count": 48,
     "metadata": {},
     "output_type": "execute_result"
    }
   ],
   "source": [
    "import time\n",
    "\n",
    "class Timer:\n",
    "    def __init__(self, prefix=''):\n",
    "        self.prefix = prefix\n",
    "        \n",
    "    def __call__(self, func):\n",
    "        def inner(*args, **kwargs):\n",
    "            start = time.time()\n",
    "            ret = func(*args, **kwargs)\n",
    "            print(self.prefix + f'runtime {(time.time()-start)*1000}')\n",
    "            return ret\n",
    "        return inner\n",
    "    \n",
    "@Timer(prefix=\"curr_time\")\n",
    "def add(x, y):\n",
    "    return x+y\n",
    "\n",
    "add(2,3)"
   ]
  },
  {
   "cell_type": "markdown",
   "id": "7d43d7f8-dead-44a3-b149-f19f05f5375e",
   "metadata": {},
   "source": [
    "# 为什么返回的时候可以吧外层的变量带回去?(闭包)"
   ]
  },
  {
   "cell_type": "code",
   "execution_count": null,
   "id": "e8c97cc7-8c39-49cd-b849-c031b1f51d84",
   "metadata": {},
   "outputs": [],
   "source": []
  }
 ],
 "metadata": {
  "kernelspec": {
   "display_name": "Python 3 (ipykernel)",
   "language": "python",
   "name": "python3"
  },
  "language_info": {
   "codemirror_mode": {
    "name": "ipython",
    "version": 3
   },
   "file_extension": ".py",
   "mimetype": "text/x-python",
   "name": "python",
   "nbconvert_exporter": "python",
   "pygments_lexer": "ipython3",
   "version": "3.9.7"
  },
  "toc-autonumbering": true,
  "toc-showcode": false,
  "toc-showmarkdowntxt": false,
  "toc-showtags": false
 },
 "nbformat": 4,
 "nbformat_minor": 5
}
