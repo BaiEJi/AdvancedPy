{
 "cells": [
  {
   "cell_type": "markdown",
   "id": "1dd4f05a-4dd9-4c93-9e56-90c5331e0831",
   "metadata": {},
   "source": [
    "# Chapter1 数据结构与算法\n",
    "## 将序列分解为单独的变量"
   ]
  },
  {
   "cell_type": "code",
   "execution_count": 2,
   "id": "edb2a0af-64e6-4747-bd87-09e98ddc4a69",
   "metadata": {},
   "outputs": [
    {
     "name": "stdout",
     "output_type": "stream",
     "text": [
      "3 5\n"
     ]
    }
   ],
   "source": [
    "# 对应的数量必须匹配\n",
    "# 只要是Iterable的对象,就是可以的\n",
    "p = (3, 5)\n",
    "x, y = p\n",
    "print(x, y)"
   ]
  },
  {
   "cell_type": "code",
   "execution_count": 3,
   "id": "8cbde2b8-f7e7-497a-9cd7-4ed7ee458818",
   "metadata": {},
   "outputs": [
    {
     "name": "stdout",
     "output_type": "stream",
     "text": [
      "3 5\n"
     ]
    }
   ],
   "source": [
    "p = (3, 5)\n",
    "x, (y) = p\n",
    "print(x, y)"
   ]
  },
  {
   "cell_type": "code",
   "execution_count": 4,
   "id": "5f144caf-276b-4110-9eb9-e3faffaac5b7",
   "metadata": {},
   "outputs": [
    {
     "data": {
      "text/plain": [
       "4"
      ]
     },
     "execution_count": 4,
     "metadata": {},
     "output_type": "execute_result"
    }
   ],
   "source": [
    "# 使用_丢弃\n",
    "datas = [1,2,3,4,5]\n",
    "_,_,_,a,_ = datas\n",
    "a"
   ]
  },
  {
   "cell_type": "markdown",
   "id": "a0dd070e-45d3-4938-87f5-e92e103c0230",
   "metadata": {},
   "source": [
    "## 从任意长度可迭代对象分解"
   ]
  },
  {
   "cell_type": "code",
   "execution_count": 5,
   "id": "da267e00-e2c8-4ad9-99e5-8c99aa1d6fc6",
   "metadata": {},
   "outputs": [
    {
     "data": {
      "text/plain": [
       "['abc', <object at 0x23848fb1880>]"
      ]
     },
     "execution_count": 5,
     "metadata": {},
     "output_type": "execute_result"
    }
   ],
   "source": [
    "# 使用* 可以代表多个\n",
    "# 从Iterable中分解出来的都是list\n",
    "# 即便是从tuple中拿到的\n",
    "datas = [1, 2, 'abc', object()]\n",
    "_, _, *a = datas\n",
    "a"
   ]
  },
  {
   "cell_type": "code",
   "execution_count": 6,
   "id": "99d7d9c5-bf2a-4963-ba5f-a36b8c93b8ad",
   "metadata": {},
   "outputs": [
    {
     "data": {
      "text/plain": [
       "list"
      ]
     },
     "execution_count": 6,
     "metadata": {},
     "output_type": "execute_result"
    }
   ],
   "source": [
    "datas = (1, 2, 'abc', object())\n",
    "_, _, *a = datas\n",
    "type(a)"
   ]
  },
  {
   "cell_type": "code",
   "execution_count": 7,
   "id": "9b8c83f4-2112-4def-b6f3-7e5730fe1df5",
   "metadata": {},
   "outputs": [
    {
     "name": "stdout",
     "output_type": "stream",
     "text": [
      "5\n"
     ]
    }
   ],
   "source": [
    "# *对应于解包操作\n",
    "# 向函数传参完全可以这样的\n",
    "\n",
    "def foo(x, y):\n",
    "    print(x+y)\n",
    "data = [2,3]\n",
    "foo(*data)"
   ]
  },
  {
   "cell_type": "code",
   "execution_count": 8,
   "id": "4e846572-eebf-4f76-9980-f703631b1007",
   "metadata": {},
   "outputs": [
    {
     "name": "stdout",
     "output_type": "stream",
     "text": [
      "['2', '3', '4', '5', '6']\n"
     ]
    }
   ],
   "source": [
    "# 也可以用于split等\n",
    "s = '1,2,3,4,5,6,7'\n",
    "_, *data, _ = s.split(',')\n",
    "print(data)"
   ]
  },
  {
   "cell_type": "code",
   "execution_count": 9,
   "id": "26880aef-e7f1-4f26-be89-4a9f5360baf8",
   "metadata": {},
   "outputs": [
    {
     "name": "stdout",
     "output_type": "stream",
     "text": [
      "[2, 3] [4, 27]\n"
     ]
    }
   ],
   "source": [
    "# 注意使用*, 一定要对应好\n",
    "datas = [1, 2, 3, (2021, 4, 27)]\n",
    "_, *data, (year, *date) = datas\n",
    "print(data, date)"
   ]
  },
  {
   "cell_type": "markdown",
   "id": "418463a2-0074-4fed-a27a-72132e92faa6",
   "metadata": {},
   "source": [
    "## 保存最后N个元素 Collentions Deque"
   ]
  },
  {
   "cell_type": "code",
   "execution_count": 10,
   "id": "08440028-4c09-4ef3-addd-979b4506d371",
   "metadata": {},
   "outputs": [
    {
     "data": {
      "text/plain": [
       "mappingproxy({'__repr__': <slot wrapper '__repr__' of 'collections.deque' objects>,\n",
       "              '__hash__': None,\n",
       "              '__getattribute__': <slot wrapper '__getattribute__' of 'collections.deque' objects>,\n",
       "              '__lt__': <slot wrapper '__lt__' of 'collections.deque' objects>,\n",
       "              '__le__': <slot wrapper '__le__' of 'collections.deque' objects>,\n",
       "              '__eq__': <slot wrapper '__eq__' of 'collections.deque' objects>,\n",
       "              '__ne__': <slot wrapper '__ne__' of 'collections.deque' objects>,\n",
       "              '__gt__': <slot wrapper '__gt__' of 'collections.deque' objects>,\n",
       "              '__ge__': <slot wrapper '__ge__' of 'collections.deque' objects>,\n",
       "              '__iter__': <slot wrapper '__iter__' of 'collections.deque' objects>,\n",
       "              '__init__': <slot wrapper '__init__' of 'collections.deque' objects>,\n",
       "              '__bool__': <slot wrapper '__bool__' of 'collections.deque' objects>,\n",
       "              '__len__': <slot wrapper '__len__' of 'collections.deque' objects>,\n",
       "              '__add__': <slot wrapper '__add__' of 'collections.deque' objects>,\n",
       "              '__mul__': <slot wrapper '__mul__' of 'collections.deque' objects>,\n",
       "              '__rmul__': <slot wrapper '__rmul__' of 'collections.deque' objects>,\n",
       "              '__getitem__': <slot wrapper '__getitem__' of 'collections.deque' objects>,\n",
       "              '__setitem__': <slot wrapper '__setitem__' of 'collections.deque' objects>,\n",
       "              '__delitem__': <slot wrapper '__delitem__' of 'collections.deque' objects>,\n",
       "              '__contains__': <slot wrapper '__contains__' of 'collections.deque' objects>,\n",
       "              '__iadd__': <slot wrapper '__iadd__' of 'collections.deque' objects>,\n",
       "              '__imul__': <slot wrapper '__imul__' of 'collections.deque' objects>,\n",
       "              '__new__': <function deque.__new__(*args, **kwargs)>,\n",
       "              'append': <method 'append' of 'collections.deque' objects>,\n",
       "              'appendleft': <method 'appendleft' of 'collections.deque' objects>,\n",
       "              'clear': <method 'clear' of 'collections.deque' objects>,\n",
       "              '__copy__': <method '__copy__' of 'collections.deque' objects>,\n",
       "              'copy': <method 'copy' of 'collections.deque' objects>,\n",
       "              'count': <method 'count' of 'collections.deque' objects>,\n",
       "              'extend': <method 'extend' of 'collections.deque' objects>,\n",
       "              'extendleft': <method 'extendleft' of 'collections.deque' objects>,\n",
       "              'index': <method 'index' of 'collections.deque' objects>,\n",
       "              'insert': <method 'insert' of 'collections.deque' objects>,\n",
       "              'pop': <method 'pop' of 'collections.deque' objects>,\n",
       "              'popleft': <method 'popleft' of 'collections.deque' objects>,\n",
       "              '__reduce__': <method '__reduce__' of 'collections.deque' objects>,\n",
       "              'remove': <method 'remove' of 'collections.deque' objects>,\n",
       "              '__reversed__': <method '__reversed__' of 'collections.deque' objects>,\n",
       "              'reverse': <method 'reverse' of 'collections.deque' objects>,\n",
       "              'rotate': <method 'rotate' of 'collections.deque' objects>,\n",
       "              '__sizeof__': <method '__sizeof__' of 'collections.deque' objects>,\n",
       "              '__class_getitem__': <method '__class_getitem__' of 'collections.deque' objects>,\n",
       "              'maxlen': <attribute 'maxlen' of 'collections.deque' objects>,\n",
       "              '__doc__': 'deque([iterable[, maxlen]]) --> deque object\\n\\nA list-like sequence optimized for data accesses near its endpoints.'})"
      ]
     },
     "execution_count": 10,
     "metadata": {},
     "output_type": "execute_result"
    }
   ],
   "source": [
    "# collections.deque的使用方法\n",
    "# 完美代替stack与queue\n",
    "# 线程安全 且两端O(1)\n",
    "# 优化了在首元素出的开销\n",
    "from collections import deque\n",
    "deque.__dict__"
   ]
  },
  {
   "cell_type": "code",
   "execution_count": 11,
   "id": "6f66ca13-65d6-480d-8f5c-1aee0e532e0f",
   "metadata": {},
   "outputs": [
    {
     "name": "stdout",
     "output_type": "stream",
     "text": [
      "deque([1, 2, 3, 4, 5], maxlen=5)\n",
      "deque([2, 3, 4, 5, 6], maxlen=5)\n",
      "deque([0, 2, 3, 4, 5], maxlen=5)\n",
      "5 0\n",
      "deque([2, 3, 4], maxlen=5)\n",
      "[2, 3, 4] {2, 3, 4} (2, 3, 4)\n",
      "2 3 4\n",
      "[4, 3, 2]\n",
      "deque([2, 3, 4, 7, 8], maxlen=5)\n",
      "deque([-1, -2, 2, 3, 4], maxlen=5)\n",
      "deque([4, -1, -2, 2, 3], maxlen=5)\n",
      "deque([2, 3, 4, -1, -2], maxlen=5)\n",
      "deque([2, 3, -1, -2], maxlen=5)\n",
      "deque([2, 3, 4, -1, -2], maxlen=5)\n",
      "2\n"
     ]
    }
   ],
   "source": [
    "d = deque([1,2,3,4,5], maxlen=5)\n",
    "print(d)\n",
    "\n",
    "d.append(6)\n",
    "print(d)\n",
    "\n",
    "d.appendleft(0)\n",
    "print(d)\n",
    "\n",
    "print(d.pop(), d.popleft())\n",
    "print(d)\n",
    "\n",
    "print(list(d), set(d), tuple(d))\n",
    "\n",
    "print(d[0], d[1], d[-1])\n",
    "\n",
    "print(list(reversed(d)))\n",
    "\n",
    "d.extend([7,8])\n",
    "print(d)\n",
    "\n",
    "d.extendleft([-2,-1])\n",
    "print(d)\n",
    "\n",
    "d.rotate(1)\n",
    "print(d)\n",
    "\n",
    "d.rotate(2)\n",
    "print(d)\n",
    "\n",
    "d.remove(4)\n",
    "print(d)\n",
    "\n",
    "d.insert(2, 4)\n",
    "print(d)\n",
    "\n",
    "print(d.index(4))"
   ]
  },
  {
   "cell_type": "code",
   "execution_count": 12,
   "id": "e3a62767-a82a-4564-843a-48db7d57856f",
   "metadata": {},
   "outputs": [
    {
     "data": {
      "text/plain": [
       "deque(['   \"name\": \"python\",\\n',\n",
       "       '   \"nbconvert_exporter\": \"python\",\\n',\n",
       "       '   \"pygments_lexer\": \"ipython3\",\\n',\n",
       "       '   \"version\": \"3.9.7\"\\n',\n",
       "       '  },\\n',\n",
       "       '  \"toc-autonumbering\": true\\n',\n",
       "       ' },\\n',\n",
       "       ' \"nbformat\": 4,\\n',\n",
       "       ' \"nbformat_minor\": 5\\n',\n",
       "       '}\\n'])"
      ]
     },
     "execution_count": 12,
     "metadata": {},
     "output_type": "execute_result"
    }
   ],
   "source": [
    "# deque Recipes\n",
    "# 1, unis tail\n",
    "def tail(filename, n=10):\n",
    "    with open(filename, encoding='utf8') as f:\n",
    "        return deque(f, n)\n",
    "\n",
    "tail('Ch1.ipynb', 10)"
   ]
  },
  {
   "cell_type": "code",
   "execution_count": 13,
   "id": "07d37ee6-dc39-4725-a3ec-b3b0fd12168c",
   "metadata": {},
   "outputs": [
    {
     "name": "stdout",
     "output_type": "stream",
     "text": [
      "1.5\n",
      "2.5\n",
      "3.5\n",
      "4.5\n"
     ]
    }
   ],
   "source": [
    "import itertools\n",
    "# 2. 是维护一个近期添加元素的序列，通过从右边添加和从左边弹出\n",
    "def moving_average(iterable, n=3):\n",
    "    # moving_average([40, 30, 50, 46, 39, 44]) --> 40.0 42.0 45.0 43.0\n",
    "    # http://en.wikipedia.org/wiki/Moving_average\n",
    "    it = iter(iterable)\n",
    "    d = deque(itertools.islice(it, n-1))\n",
    "    d.appendleft(0)\n",
    "    s = sum(d)\n",
    "    for elem in it:\n",
    "        s += elem - d.popleft()\n",
    "        d.append(elem)\n",
    "        yield s / n\n",
    "        \n",
    "        \n",
    "for i in moving_average([1,2,3,4,5], n=2):\n",
    "    print(i)"
   ]
  },
  {
   "cell_type": "code",
   "execution_count": 14,
   "id": "b9f599de-fb53-41c4-9021-00c6c9babddd",
   "metadata": {},
   "outputs": [
    {
     "name": "stdout",
     "output_type": "stream",
     "text": [
      "a\n",
      "d\n",
      "f\n",
      "b\n",
      "e\n",
      "c\n"
     ]
    }
   ],
   "source": [
    "# 3. a round-robin scheduler\n",
    "# 这样写轮询\n",
    "def round_robin(*iterables):\n",
    "    iterators = deque(map(iter, iterables))\n",
    "    while iterators:\n",
    "        try:\n",
    "            while True:\n",
    "                yield next(iterators[0])\n",
    "                iterators.rotate(-1)\n",
    "        except StopIteration:\n",
    "            iterators.popleft()\n",
    "\n",
    "for i in round_robin('abc', 'de', 'f'):\n",
    "    print(i)"
   ]
  },
  {
   "cell_type": "markdown",
   "id": "c59ddad6-90ef-4ff8-971a-586e83deb31e",
   "metadata": {},
   "source": [
    "## 找最大或最小的N个元素 Heapq"
   ]
  },
  {
   "cell_type": "code",
   "execution_count": 15,
   "id": "4bee4036-95cc-4435-b70b-737be5da0969",
   "metadata": {},
   "outputs": [],
   "source": [
    "import heapq\n",
    "# 都是小顶堆\n",
    "# 且都是list,只是使用方法对列表元素顺序进行改变"
   ]
  },
  {
   "cell_type": "code",
   "execution_count": 16,
   "id": "abab4d0c-5d33-466d-8d8e-4eb71cfb5894",
   "metadata": {},
   "outputs": [],
   "source": [
    "# 测试不同大小的方法的效率\n",
    "import time\n",
    "import random\n",
    "random.seed(42)"
   ]
  },
  {
   "cell_type": "code",
   "execution_count": 17,
   "id": "27d5147b-5035-496a-a942-f2589b4c520e",
   "metadata": {},
   "outputs": [],
   "source": [
    "def timeit(func):\n",
    "    def wrap(*args, **kwargs):\n",
    "        start = time.time()\n",
    "        func(*args, **kwargs)\n",
    "        print(time.time() - start)\n",
    "    return wrap"
   ]
  },
  {
   "cell_type": "code",
   "execution_count": 18,
   "id": "668752cc-775f-4d0e-ae81-55c8319f83f8",
   "metadata": {},
   "outputs": [
    {
     "name": "stdout",
     "output_type": "stream",
     "text": [
      "[1000000, 999999, 999999]\n",
      "0.704118013381958\n",
      "[999999, 999997, 999997]\n",
      "0.9145593643188477\n"
     ]
    }
   ],
   "source": [
    "# 后两个函数在 n 值较小时性能最好。 对于更大的值，使用 sorted() 函数会更有效率。 \n",
    "# 此外，当 n==1 时，使用内置的 min() 和 max() 函数会更有效率。 如果需要重复使用这些函数，请考虑将可迭代对象转为真正的堆。\n",
    "# 所有比较大小的 都可以使用 key 与 reverse\n",
    "@timeit\n",
    "def func1():\n",
    "    l = []\n",
    "    for i in range(1000000):\n",
    "        l.append(random.randint(1, 1000000))\n",
    "    res = heapq.nlargest(3, l)\n",
    "    print(res)\n",
    "func1()\n",
    "\n",
    "@timeit\n",
    "def func2():\n",
    "    l = []\n",
    "    for i in range(1000000):\n",
    "        l.append(random.randint(1, 1000000))\n",
    "    res = sorted(l, reverse=True)[:3]\n",
    "    print(res)\n",
    "func2()"
   ]
  },
  {
   "cell_type": "code",
   "execution_count": 19,
   "id": "3ad303e3-7fce-4f0f-9209-bc9e56e17bf9",
   "metadata": {},
   "outputs": [
    {
     "name": "stdout",
     "output_type": "stream",
     "text": [
      "2.0565359592437744\n",
      "0.8807094097137451\n"
     ]
    }
   ],
   "source": [
    "@timeit\n",
    "def func1():\n",
    "    l = []\n",
    "    for i in range(1000000):\n",
    "        l.append(random.randint(1, 1000000))\n",
    "    res = heapq.nlargest(300000, l)\n",
    "#     print(res)\n",
    "func1()\n",
    "\n",
    "@timeit\n",
    "def func2():\n",
    "    l = []\n",
    "    for i in range(1000000):\n",
    "        l.append(random.randint(1, 1000000))\n",
    "    res = sorted(l, reverse=True)[:300000]\n",
    "#     print(res)\n",
    "func2()"
   ]
  },
  {
   "cell_type": "code",
   "execution_count": 20,
   "id": "23b9938c-afb6-47d0-84e3-ddabd1828449",
   "metadata": {},
   "outputs": [
    {
     "data": {
      "text/plain": [
       "[-1, 1, 3, 5, 5, 7, 8, 9, 9, 10]"
      ]
     },
     "execution_count": 20,
     "metadata": {},
     "output_type": "execute_result"
    }
   ],
   "source": [
    "# api\n",
    "list(heapq.merge([1,5,9], [5,8,10], [-1,3,7,9]))"
   ]
  },
  {
   "cell_type": "markdown",
   "id": "d3cb19d6-7236-45df-9435-0bc401432396",
   "metadata": {},
   "source": [
    "## 实现一个优先级队列"
   ]
  },
  {
   "cell_type": "code",
   "execution_count": 21,
   "id": "d45a09cf-20f1-4884-ba37-c006b0589d49",
   "metadata": {},
   "outputs": [],
   "source": [
    "# 官方文档比书上写的更好\n",
    "from heapq import *\n",
    "# pq yu enter_finder之间都存了列表\n",
    "# 是同一个东西哦\n",
    "\n",
    "pq = []                         # list of entries arranged in a heap\n",
    "entry_finder = {}               # mapping of tasks to entries\n",
    "REMOVED = '<removed-task>'      # placeholder for a removed task\n",
    "counter = itertools.count()     # unique sequence count\n",
    "\n",
    "def add_task(task, priority=0):\n",
    "    'Add a new task or update the priority of an existing task'\n",
    "    if task in entry_finder:\n",
    "        remove_task(task)\n",
    "    count = next(counter)\n",
    "    entry = [priority, count, task]\n",
    "    entry_finder[task] = entry\n",
    "    heappush(pq, entry)\n",
    "\n",
    "def remove_task(task):\n",
    "    'Mark an existing task as REMOVED.  Raise KeyError if not found.'\n",
    "    entry = entry_finder.pop(task)\n",
    "    entry[-1] = REMOVED\n",
    "\n",
    "def pop_task():\n",
    "    'Remove and return the lowest priority task. Raise KeyError if empty.'\n",
    "    while pq:\n",
    "        priority, count, task = heappop(pq)\n",
    "        if task is not REMOVED:\n",
    "            del entry_finder[task]\n",
    "            return task\n",
    "    raise KeyError('pop from an empty priority queue')"
   ]
  },
  {
   "cell_type": "code",
   "execution_count": 22,
   "id": "5b85b540-0121-485e-bad2-8deffbb424e4",
   "metadata": {},
   "outputs": [
    {
     "name": "stdout",
     "output_type": "stream",
     "text": [
      "[[0, 0, 'a'], [0, 1, 'b'], [1, 2, 'c']] {'a': [0, 0, 'a'], 'b': [0, 1, 'b'], 'c': [1, 2, 'c']}\n"
     ]
    }
   ],
   "source": [
    "# 创建任务\n",
    "l = [['a', 0], ['b',0], ['c',1]]\n",
    "for i in l:\n",
    "    add_task(*i)\n",
    "\n",
    "print(pq, entry_finder)"
   ]
  },
  {
   "cell_type": "code",
   "execution_count": 23,
   "id": "2f68c91b-15ce-4ce3-a174-b98d399a59bc",
   "metadata": {},
   "outputs": [
    {
     "name": "stdout",
     "output_type": "stream",
     "text": [
      "[[0, 0, 'a'], [0, 1, '<removed-task>'], [1, 2, 'c']] {'a': [0, 0, 'a'], 'c': [1, 2, 'c']}\n"
     ]
    }
   ],
   "source": [
    "# remove一个任务\n",
    "remove_task('b')\n",
    "print(pq, entry_finder)"
   ]
  },
  {
   "cell_type": "code",
   "execution_count": 24,
   "id": "369edea1-f9cf-42c0-bf33-ccba9cd181e0",
   "metadata": {},
   "outputs": [
    {
     "name": "stdout",
     "output_type": "stream",
     "text": [
      "a\n",
      "c\n",
      "'pop from an empty priority queue'\n"
     ]
    }
   ],
   "source": [
    "# 执行所有的任务\n",
    "try:\n",
    "    while True:\n",
    "        print(pop_task())\n",
    "except Exception as e:\n",
    "    print(e)"
   ]
  },
  {
   "cell_type": "code",
   "execution_count": 25,
   "id": "117b5f3d-12fb-4379-935b-cf60dede1d7a",
   "metadata": {},
   "outputs": [
    {
     "name": "stdout",
     "output_type": "stream",
     "text": [
      "[] {}\n"
     ]
    }
   ],
   "source": [
    "print(pq, entry_finder)"
   ]
  },
  {
   "cell_type": "markdown",
   "id": "7535f985-11dd-424c-82d4-2b31015fb9cb",
   "metadata": {},
   "source": [
    "## 字典将键映射到多个值上 defaultdict"
   ]
  },
  {
   "cell_type": "code",
   "execution_count": 26,
   "id": "be785a42-2121-4a21-863e-d73a2b8f9390",
   "metadata": {},
   "outputs": [
    {
     "name": "stdout",
     "output_type": "stream",
     "text": [
      "defaultdict(<class 'list'>, {'a': [1, 2], 'b': [2]})\n"
     ]
    }
   ],
   "source": [
    "# defaultdict\n",
    "from collections import defaultdict\n",
    "d = defaultdict(list)\n",
    "\n",
    "d['a'].append(1)\n",
    "d['a'].append(2)\n",
    "d['b'].append(2)\n",
    "\n",
    "print(d)"
   ]
  },
  {
   "cell_type": "code",
   "execution_count": 27,
   "id": "6c793a95-7b5c-4b32-ba09-55690b07aa29",
   "metadata": {},
   "outputs": [
    {
     "name": "stdout",
     "output_type": "stream",
     "text": [
      "defaultdict(<class 'list'>, {'a': [1, 2], 'b': [2], 'c': []})\n"
     ]
    }
   ],
   "source": [
    "# 缺点是找过东西就会有默认的键值对\n",
    "# 对于一些要根据是否存在键 来判断的方法不是很友好\n",
    "if d['c']:\n",
    "    pass\n",
    "\n",
    "print(d)"
   ]
  },
  {
   "cell_type": "code",
   "execution_count": 28,
   "id": "64c053da-e5d2-4c76-a59d-520060bd62c6",
   "metadata": {},
   "outputs": [
    {
     "name": "stdout",
     "output_type": "stream",
     "text": [
      "{'a': [1, 2], 'b': [1]}\n"
     ]
    }
   ],
   "source": [
    "# 普通字典可以使用setdefault\n",
    "# setdefault 要慢\n",
    "d = dict()\n",
    "\n",
    "d.setdefault('a', []).append(1)\n",
    "d.setdefault('a', []).append(2)\n",
    "d.setdefault('b', []).append(1)\n",
    "\n",
    "if 'd' in d.keys():\n",
    "    pass\n",
    "\n",
    "print(d)"
   ]
  },
  {
   "cell_type": "markdown",
   "id": "be777562-b58a-460b-8374-ff1d4e461d1a",
   "metadata": {},
   "source": [
    "## 字典保持有序"
   ]
  },
  {
   "cell_type": "code",
   "execution_count": 29,
   "id": "2931f0e6-ed52-4bc8-ac58-2a0fa1ceb6e3",
   "metadata": {},
   "outputs": [
    {
     "name": "stdout",
     "output_type": "stream",
     "text": [
      "asd 3\n",
      "qwr 3\n",
      "retg 3\n",
      "vsd 3\n",
      "\n",
      "asd 3\n",
      "qwr 3\n",
      "retg 3\n",
      "vsd 3\n"
     ]
    }
   ],
   "source": [
    "from collections import OrderedDict\n",
    "# 严格按照元素添加的顺序进行迭代\n",
    "# JSON DUMP的时候很有用\\\n",
    "# 双向链表 太大啦!\n",
    "# py3.6之后已经可以记录插入顺序啦\n",
    "\n",
    "od = OrderedDict()\n",
    "d = {}\n",
    "\n",
    "for i in ['asd','qwr','retg','vsd']:\n",
    "    od[i] = 3\n",
    "    d[i] = 3\n",
    "    \n",
    "for key in od:\n",
    "    print(key, od[key])\n",
    "print()\n",
    "for key in d:\n",
    "    print(key, d[key])"
   ]
  },
  {
   "cell_type": "code",
   "execution_count": 30,
   "id": "c54f2305-bc4f-45e3-8810-baa29429c988",
   "metadata": {},
   "outputs": [
    {
     "name": "stdout",
     "output_type": "stream",
     "text": [
      "odict_keys(['a', 'c', 'd', 'e', 'b'])\n",
      "odict_keys(['c', 'a', 'd', 'e', 'b'])\n"
     ]
    }
   ],
   "source": [
    "# move_to_end\n",
    "d = OrderedDict.fromkeys('abcde')\n",
    "d.move_to_end('b')\n",
    "print(d.keys())\n",
    "d.move_to_end('c', last=False)\n",
    "print(d.keys())"
   ]
  },
  {
   "cell_type": "code",
   "execution_count": 31,
   "id": "4465314b-1e2a-40ea-be1d-6e4340f3d83d",
   "metadata": {},
   "outputs": [
    {
     "name": "stdout",
     "output_type": "stream",
     "text": [
      "odict_keys(['a', 'b', 'd', 'e', 'c'])\n"
     ]
    }
   ],
   "source": [
    "# 如果插入的存在,那么将它移植末尾\n",
    "class LastUpdatedOrderedDict(OrderedDict):\n",
    "    'Store items in the order the keys were last added'\n",
    "\n",
    "    def __setitem__(self, key, value):\n",
    "        super().__setitem__(key, value)\n",
    "        super().move_to_end(key)\n",
    "        \n",
    "od = LastUpdatedOrderedDict.fromkeys('abcde')\n",
    "od['c'] = 3\n",
    "print(od.keys())"
   ]
  },
  {
   "cell_type": "code",
   "execution_count": 32,
   "id": "78463299-de74-4695-8b9f-f118d44eda96",
   "metadata": {},
   "outputs": [],
   "source": [
    "# 实现lru_cache\n",
    "class LRU(OrderedDict):\n",
    "    'Limit size, evicting the least recently looked-up key when full'\n",
    "\n",
    "    def __init__(self, maxsize=128, *args, **kwds):\n",
    "        self.maxsize = maxsize\n",
    "        super().__init__(*args, **kwds)\n",
    "\n",
    "    def __getitem__(self, key):\n",
    "        value = super().__getitem__(key)\n",
    "        self.move_to_end(key)\n",
    "        return value\n",
    "\n",
    "    def __setitem__(self, key, value):\n",
    "        super().__setitem__(key, value)\n",
    "        if len(self) > self.maxsize:\n",
    "            oldest = next(iter(self))\n",
    "            del self[oldest]"
   ]
  },
  {
   "cell_type": "markdown",
   "id": "a76d544f-be8f-4042-ae22-8473dcfc6969",
   "metadata": {},
   "source": [
    "## 与字典有关的计算问题"
   ]
  },
  {
   "cell_type": "code",
   "execution_count": 33,
   "id": "2a49722c-5395-4b61-b6f6-02bd759e8836",
   "metadata": {},
   "outputs": [
    {
     "data": {
      "text/plain": [
       "[(999, 'lzy'), (300, 'htt'), (222, 'hyt')]"
      ]
     },
     "execution_count": 33,
     "metadata": {},
     "output_type": "execute_result"
    }
   ],
   "source": [
    "# zip的好作用\n",
    "prices = {\n",
    "    'lzy' : 999,\n",
    "    'htt': 300,\n",
    "    'hyt': 222,\n",
    "}\n",
    "\n",
    "list(zip(prices.values(), prices.keys()))"
   ]
  },
  {
   "cell_type": "code",
   "execution_count": 34,
   "id": "32405ae7-2e81-4aa7-8af5-cd94739fb2c2",
   "metadata": {},
   "outputs": [
    {
     "data": {
      "text/plain": [
       "('lzy', (999, 'lzy'))"
      ]
     },
     "execution_count": 34,
     "metadata": {},
     "output_type": "execute_result"
    }
   ],
   "source": [
    "max(prices), max(zip(prices.values(), prices.keys()))"
   ]
  },
  {
   "cell_type": "code",
   "execution_count": 35,
   "id": "058e73d3-d126-4faf-b754-5ea79b25b2ec",
   "metadata": {},
   "outputs": [
    {
     "name": "stdout",
     "output_type": "stream",
     "text": [
      "(999, 'lzy')\n"
     ]
    },
    {
     "ename": "ValueError",
     "evalue": "min() arg is an empty sequence",
     "output_type": "error",
     "traceback": [
      "\u001b[1;31m---------------------------------------------------------------------------\u001b[0m",
      "\u001b[1;31mValueError\u001b[0m                                Traceback (most recent call last)",
      "\u001b[1;32m~\\AppData\\Local\\Temp/ipykernel_27260/2437704880.py\u001b[0m in \u001b[0;36m<module>\u001b[1;34m\u001b[0m\n\u001b[0;32m      2\u001b[0m \u001b[0mz\u001b[0m \u001b[1;33m=\u001b[0m \u001b[0mzip\u001b[0m\u001b[1;33m(\u001b[0m\u001b[0mprices\u001b[0m\u001b[1;33m.\u001b[0m\u001b[0mvalues\u001b[0m\u001b[1;33m(\u001b[0m\u001b[1;33m)\u001b[0m\u001b[1;33m,\u001b[0m \u001b[0mprices\u001b[0m\u001b[1;33m.\u001b[0m\u001b[0mkeys\u001b[0m\u001b[1;33m(\u001b[0m\u001b[1;33m)\u001b[0m\u001b[1;33m)\u001b[0m\u001b[1;33m\u001b[0m\u001b[1;33m\u001b[0m\u001b[0m\n\u001b[0;32m      3\u001b[0m \u001b[0mprint\u001b[0m\u001b[1;33m(\u001b[0m\u001b[0mmax\u001b[0m\u001b[1;33m(\u001b[0m\u001b[0mz\u001b[0m\u001b[1;33m)\u001b[0m\u001b[1;33m)\u001b[0m\u001b[1;33m\u001b[0m\u001b[1;33m\u001b[0m\u001b[0m\n\u001b[1;32m----> 4\u001b[1;33m \u001b[0mmin\u001b[0m\u001b[1;33m(\u001b[0m\u001b[0mz\u001b[0m\u001b[1;33m)\u001b[0m\u001b[1;33m\u001b[0m\u001b[1;33m\u001b[0m\u001b[0m\n\u001b[0m",
      "\u001b[1;31mValueError\u001b[0m: min() arg is an empty sequence"
     ]
    }
   ],
   "source": [
    "# 只可以消费一次哦\n",
    "z = zip(prices.values(), prices.keys())\n",
    "print(max(z))\n",
    "min(z)"
   ]
  },
  {
   "cell_type": "markdown",
   "id": "c83c8706-20f9-4eef-80e1-d67456b9726d",
   "metadata": {},
   "source": [
    "## 两个字典的比较, 集合操作"
   ]
  },
  {
   "cell_type": "code",
   "execution_count": 36,
   "id": "4116986b-b3b5-44cb-adea-ebd37a466547",
   "metadata": {},
   "outputs": [],
   "source": [
    "# 字典的键和items都支持集合操作\n",
    "# intersection union difference symmetric_difference\n",
    "a = {\n",
    "    'x':1,\n",
    "    'y':2,\n",
    "    'z':3\n",
    "}\n",
    "\n",
    "b = {\n",
    "    'w': 10,\n",
    "    'x': 10,\n",
    "    'y':2\n",
    "}"
   ]
  },
  {
   "cell_type": "code",
   "execution_count": 37,
   "id": "29fa39da-69b2-4cd7-8580-6449d6e806b0",
   "metadata": {},
   "outputs": [
    {
     "name": "stdout",
     "output_type": "stream",
     "text": [
      "{'y', 'x'} {'y', 'w', 'z', 'x'} {'z'} {'w', 'z'}\n"
     ]
    }
   ],
   "source": [
    "print(a.keys()&b.keys(), a.keys()|b.keys(), a.keys()-b.keys(), a.keys()^b.keys())"
   ]
  },
  {
   "cell_type": "code",
   "execution_count": 38,
   "id": "25289054-c085-4e04-8d82-c7a6a662d86e",
   "metadata": {},
   "outputs": [
    {
     "name": "stdout",
     "output_type": "stream",
     "text": [
      "{('y', 2)} {('x', 1), ('w', 10), ('x', 10), ('z', 3), ('y', 2)} {('z', 3), ('x', 1)} {('x', 1), ('w', 10), ('x', 10), ('z', 3)}\n"
     ]
    }
   ],
   "source": [
    "print(a.items()&b.items(), a.items()|b.items(), a.items()-b.items(), a.items()^b.items())"
   ]
  },
  {
   "cell_type": "markdown",
   "id": "f8b1a25e-d84d-420b-9e7d-a966183a681a",
   "metadata": {},
   "source": [
    "## 从序列中移除重复项而保持顺序不变"
   ]
  },
  {
   "cell_type": "code",
   "execution_count": 39,
   "id": "1f49ae99-586a-421d-91af-b9cf5040c775",
   "metadata": {},
   "outputs": [
    {
     "data": {
      "text/plain": [
       "[1, 5, 2, 4, 6, 7, 8, 9]"
      ]
     },
     "execution_count": 39,
     "metadata": {},
     "output_type": "execute_result"
    }
   ],
   "source": [
    "# 序列中的值可哈希的\n",
    "# 可以使用生成器\n",
    "def dedupe(items):\n",
    "    seen = set()\n",
    "    for item in items:\n",
    "        if item not in seen:\n",
    "            yield item\n",
    "            seen.add(item)\n",
    "            \n",
    "list(dedupe([1,5,2,4,6,7,8,9,2,4,5,6]))"
   ]
  },
  {
   "cell_type": "code",
   "execution_count": 40,
   "id": "4788bdd5-0301-4e14-bac9-0a4be31b1772",
   "metadata": {},
   "outputs": [
    {
     "data": {
      "text/plain": [
       "[[1, 2, 3], [1, 2, 5], [3, 6, 12]]"
      ]
     },
     "execution_count": 40,
     "metadata": {},
     "output_type": "execute_result"
    }
   ],
   "source": [
    "def dedupe(items, key=None):\n",
    "    seen = set()\n",
    "    for item in items:\n",
    "        val = item if key is None else key(item)\n",
    "        if val not in seen:\n",
    "            yield item\n",
    "            seen.add(val)\n",
    "            \n",
    "list(dedupe([[1,2,3], [1,2,5], [3,6,12]], key=sum))"
   ]
  },
  {
   "cell_type": "markdown",
   "id": "77449998-5362-4ffc-ba0c-19bbc39b0e27",
   "metadata": {},
   "source": [
    "## 对切片命名"
   ]
  },
  {
   "cell_type": "code",
   "execution_count": 41,
   "id": "0c5f9198-8a56-4ae9-ab53-2050f6445541",
   "metadata": {},
   "outputs": [
    {
     "data": {
      "text/plain": [
       "'lzy has a pen, '"
      ]
     },
     "execution_count": 41,
     "metadata": {},
     "output_type": "execute_result"
    }
   ],
   "source": [
    "# 可以避免晦涩难懂的硬编码\n",
    "PRICE = slice(-3, )\n",
    "\n",
    "s = 'lzy has a pen, 017'\n",
    "s[PRICE]"
   ]
  },
  {
   "cell_type": "code",
   "execution_count": 42,
   "id": "61e9fb24-a214-4af8-8da4-ad53b09ceca4",
   "metadata": {},
   "outputs": [
    {
     "name": "stdout",
     "output_type": "stream",
     "text": [
      "None None\n"
     ]
    }
   ],
   "source": [
    "print(PRICE.start, PRICE.step)"
   ]
  },
  {
   "cell_type": "code",
   "execution_count": 43,
   "id": "90a58fcb-dca8-4ba5-941c-0cea67f640e3",
   "metadata": {},
   "outputs": [
    {
     "data": {
      "text/plain": [
       "(5, 10, 2)"
      ]
     },
     "execution_count": 43,
     "metadata": {},
     "output_type": "execute_result"
    }
   ],
   "source": [
    "a = slice(5, 50, 2)\n",
    "s = 'HelloWorld'\n",
    "a.indices(len(s))"
   ]
  },
  {
   "cell_type": "markdown",
   "id": "df3b59b4-a4e8-44cd-8330-bc1c57221727",
   "metadata": {},
   "source": [
    "## 找出序列中出现次数最多的元素"
   ]
  },
  {
   "cell_type": "code",
   "execution_count": 67,
   "id": "89184f7b-3d21-4a73-ad53-d79dd022761a",
   "metadata": {},
   "outputs": [
    {
     "name": "stdout",
     "output_type": "stream",
     "text": [
      "Counter({'a': 4, 'b': 2, 'c': 0, 'd': -2})\n",
      "Counter({'c': 3, 'b': 2, 'a': 1, 'd': -1})\n"
     ]
    }
   ],
   "source": [
    "# Counter\n",
    "# 其实是一个dict的子类\n",
    "# elements()\n",
    "# most_commom(n)\n",
    "# subtract() / update()\n",
    "# + -(一元,二元) &(min) |(max)\n",
    "from collections import Counter\n",
    "\n",
    "c = Counter(a=4, b=2, c=0, d=-2)\n",
    "d = Counter(a=1, b=2, c=3, d=-1)\n",
    "print(c, d, sep='\\n')"
   ]
  },
  {
   "cell_type": "code",
   "execution_count": 68,
   "id": "afe2aa57-2f9e-4cc8-86ea-3ae06616c59a",
   "metadata": {},
   "outputs": [
    {
     "data": {
      "text/plain": [
       "0"
      ]
     },
     "execution_count": 68,
     "metadata": {},
     "output_type": "execute_result"
    }
   ],
   "source": [
    "c['e']"
   ]
  },
  {
   "cell_type": "code",
   "execution_count": 69,
   "id": "6bf2caba-6d55-4221-af32-02b990335b15",
   "metadata": {},
   "outputs": [
    {
     "data": {
      "text/plain": [
       "['a', 'a', 'a', 'a', 'b', 'b']"
      ]
     },
     "execution_count": 69,
     "metadata": {},
     "output_type": "execute_result"
    }
   ],
   "source": [
    "list(c.elements())"
   ]
  },
  {
   "cell_type": "code",
   "execution_count": 70,
   "id": "d08b2843-c34d-4b61-ba6f-9418bd1e3763",
   "metadata": {},
   "outputs": [
    {
     "data": {
      "text/plain": [
       "[('a', 4), ('b', 2)]"
      ]
     },
     "execution_count": 70,
     "metadata": {},
     "output_type": "execute_result"
    }
   ],
   "source": [
    "c.most_common(2)"
   ]
  },
  {
   "cell_type": "code",
   "execution_count": 71,
   "id": "24eeb87f-3d8a-4a55-9013-f46328c8df6a",
   "metadata": {},
   "outputs": [
    {
     "data": {
      "text/plain": [
       "Counter({'a': 3, 'b': 0, 'c': -3, 'd': -1})"
      ]
     },
     "execution_count": 71,
     "metadata": {},
     "output_type": "execute_result"
    }
   ],
   "source": [
    "c.subtract(d)\n",
    "c"
   ]
  },
  {
   "cell_type": "code",
   "execution_count": 72,
   "id": "26dad7df-6f4e-4769-8897-8bff9f311921",
   "metadata": {},
   "outputs": [
    {
     "data": {
      "text/plain": [
       "Counter({'a': 4, 'b': 2, 'c': 0, 'd': -2})"
      ]
     },
     "execution_count": 72,
     "metadata": {},
     "output_type": "execute_result"
    }
   ],
   "source": [
    "c.update(d)\n",
    "c"
   ]
  },
  {
   "cell_type": "code",
   "execution_count": 73,
   "id": "d7ccacfc-2b99-4cd9-83c1-51fa19a54557",
   "metadata": {},
   "outputs": [
    {
     "name": "stdout",
     "output_type": "stream",
     "text": [
      "Counter({'a': 5, 'b': 4, 'c': 3})\n",
      "Counter({'a': 3})\n"
     ]
    }
   ],
   "source": [
    "print(c+d, c-d, sep='\\n')"
   ]
  },
  {
   "cell_type": "code",
   "execution_count": 74,
   "id": "1f24a66e-5765-42ad-9a93-dab6ebc4c5ff",
   "metadata": {},
   "outputs": [
    {
     "name": "stdout",
     "output_type": "stream",
     "text": [
      "Counter({'a': 4, 'b': 2})\n",
      "Counter({'d': 2})\n"
     ]
    }
   ],
   "source": [
    "print(+c, -c, sep='\\n')"
   ]
  },
  {
   "cell_type": "code",
   "execution_count": 75,
   "id": "0aa795d1-faf2-4209-809b-56242022afbe",
   "metadata": {},
   "outputs": [
    {
     "name": "stdout",
     "output_type": "stream",
     "text": [
      "Counter({'b': 2, 'a': 1})\n",
      "Counter({'a': 4, 'c': 3, 'b': 2})\n"
     ]
    }
   ],
   "source": [
    "print(c&d, c|d, sep='\\n')"
   ]
  },
  {
   "cell_type": "markdown",
   "id": "fe07f27c-afeb-4f31-8713-5c9e703970ea",
   "metadata": {},
   "source": [
    "## 使用公共键对列表排序 operator"
   ]
  },
  {
   "cell_type": "code",
   "execution_count": 76,
   "id": "fbcd7848-0bae-4480-81f0-ce4a83b876d4",
   "metadata": {},
   "outputs": [],
   "source": [
    "import operator"
   ]
  },
  {
   "cell_type": "code",
   "execution_count": 79,
   "id": "f14e64ff-9181-4b3b-93c2-ac373237ee37",
   "metadata": {},
   "outputs": [],
   "source": [
    "# 效率测试\n",
    "import time\n",
    "import random\n",
    "from functools import reduce\n",
    "\n",
    "l = []\n",
    "for i in range(10000000):\n",
    "    l.append(random.randint(0,100000))"
   ]
  },
  {
   "cell_type": "code",
   "execution_count": 82,
   "id": "655a08ca-cd56-4628-81ae-883af4ee7bf2",
   "metadata": {},
   "outputs": [
    {
     "name": "stdout",
     "output_type": "stream",
     "text": [
      "0.2711937427520752\n"
     ]
    }
   ],
   "source": [
    "start = time.time()\n",
    "# res = reduce(lambda x,y:x+y, l)\n",
    "res = reduce(operator.add, l)\n",
    "print(time.time()-start)"
   ]
  },
  {
   "cell_type": "code",
   "execution_count": 86,
   "id": "671e0585-82fd-4280-989c-2b0d658bd725",
   "metadata": {},
   "outputs": [
    {
     "data": {
      "text/plain": [
       "[{'name': 'htt', 'age': 19},\n",
       " {'name': 'hyt', 'age': 20},\n",
       " {'name': 'lzy', 'age': 20}]"
      ]
     },
     "execution_count": 86,
     "metadata": {},
     "output_type": "execute_result"
    }
   ],
   "source": [
    "# 主要还是用于代替lambda\n",
    "people = [\n",
    "    {'name':'lzy', 'age':20},\n",
    "    {'name':'htt', 'age':19},\n",
    "    {'name':'hyt', 'age':20},\n",
    "]\n",
    "\n",
    "sorted(people, key=operator.itemgetter('age', 'name'))"
   ]
  },
  {
   "cell_type": "markdown",
   "id": "08748850-3bbd-4e59-a27b-c6eb2ec51cf1",
   "metadata": {},
   "source": [
    "## 对不原生支持比较操作的对象进行排序"
   ]
  },
  {
   "cell_type": "code",
   "execution_count": 92,
   "id": "f232f67e-6197-4eb4-a792-d6dcdfe5ccc1",
   "metadata": {},
   "outputs": [
    {
     "name": "stdout",
     "output_type": "stream",
     "text": [
      "[htt, 19, hyt, 20, lzy, 20]\n",
      "[htt, 19, hyt, 20, lzy, 20]\n"
     ]
    }
   ],
   "source": [
    "# operator attrgetter, methodcaller\n",
    "class People:\n",
    "    def __init__(self, name, age):\n",
    "        self.age = age\n",
    "        self.name = name\n",
    "    \n",
    "    def info(self):\n",
    "        return self.age, self.name\n",
    "    \n",
    "    def __str__(self):\n",
    "        return f'{self.name}, {self.age}'\n",
    "    __repr__ = __str__\n",
    "    \n",
    "p = [People('lzy',20), People('hyt',20), People('htt',19)]\n",
    "\n",
    "print(sorted(p, key=operator.attrgetter('age', 'name')))\n",
    "print(sorted(p, key=operator.methodcaller('info')))"
   ]
  },
  {
   "cell_type": "markdown",
   "id": "d3a6ec03-e742-4577-8b3e-b05551f2a98b",
   "metadata": {},
   "source": [
    "## 根据字段将数据分组 groupby"
   ]
  },
  {
   "cell_type": "code",
   "execution_count": 96,
   "id": "ebad7d33-fd4f-4be4-957f-508e993d3cd8",
   "metadata": {},
   "outputs": [
    {
     "name": "stdout",
     "output_type": "stream",
     "text": [
      "htt\n",
      "{'name': 'htt', 'age': 19}\n",
      "{'name': 'htt', 'age': 2}\n",
      "{'name': 'htt', 'age': 5}\n",
      "hyt\n",
      "{'name': 'hyt', 'age': 20}\n",
      "{'name': 'hyt', 'age': 3}\n",
      "{'name': 'hyt', 'age': 6}\n",
      "lzy\n",
      "{'name': 'lzy', 'age': 20}\n",
      "{'name': 'lzy', 'age': 1}\n",
      "{'name': 'lzy', 'age': 4}\n"
     ]
    }
   ],
   "source": [
    "import itertools\n",
    "people = [\n",
    "    {'name':'lzy', 'age':20},\n",
    "    {'name':'htt', 'age':19},\n",
    "    {'name':'hyt', 'age':20},\n",
    "    {'name':'lzy', 'age':1},\n",
    "    {'name':'htt', 'age':2},\n",
    "    {'name':'hyt', 'age':3},\n",
    "    {'name':'lzy', 'age':4},\n",
    "    {'name':'htt', 'age':5},\n",
    "    {'name':'hyt', 'age':6},\n",
    "]\n",
    "\n",
    "people.sort(key=operator.itemgetter('name'))\n",
    "\n",
    "for people, datas in itertools.groupby(people, key=operator.itemgetter('name')):\n",
    "    print(people)\n",
    "    for info in datas:\n",
    "        print(info)"
   ]
  },
  {
   "cell_type": "markdown",
   "id": "c5f8a0dd-8535-4aa8-8bbb-8975401ae47d",
   "metadata": {},
   "source": [
    "## 筛选序列中的元素"
   ]
  },
  {
   "cell_type": "code",
   "execution_count": 104,
   "id": "91aa8217-f0f3-4c89-bc9b-93ab7eed0640",
   "metadata": {},
   "outputs": [],
   "source": [
    "l = [1,-2,4,-6,78,0,4,-3,]"
   ]
  },
  {
   "cell_type": "code",
   "execution_count": 105,
   "id": "5f003d0f-b4f1-46a9-a14b-58fd252f3345",
   "metadata": {},
   "outputs": [
    {
     "data": {
      "text/plain": [
       "[1, 4, 78, 4]"
      ]
     },
     "execution_count": 105,
     "metadata": {},
     "output_type": "execute_result"
    }
   ],
   "source": [
    "# 列表推导式\n",
    "[i for i in l if i > 0]"
   ]
  },
  {
   "cell_type": "code",
   "execution_count": 106,
   "id": "2d61b8dd-36ad-409e-b9ed-74c802130f74",
   "metadata": {},
   "outputs": [
    {
     "data": {
      "text/plain": [
       "<generator object <genexpr> at 0x000002384A7793C0>"
      ]
     },
     "execution_count": 106,
     "metadata": {},
     "output_type": "execute_result"
    }
   ],
   "source": [
    "# 迭代器推导式\n",
    "(i for i in l if i > 0)"
   ]
  },
  {
   "cell_type": "code",
   "execution_count": 107,
   "id": "fed77e0f-5814-41b8-a2c3-fd6916773ae6",
   "metadata": {},
   "outputs": [
    {
     "data": {
      "text/plain": [
       "<filter at 0x2384d750790>"
      ]
     },
     "execution_count": 107,
     "metadata": {},
     "output_type": "execute_result"
    }
   ],
   "source": [
    "filter(lambda x:x>0, l)"
   ]
  },
  {
   "cell_type": "code",
   "execution_count": 109,
   "id": "073b0bd0-e0fb-4196-8597-bafc08c3e396",
   "metadata": {},
   "outputs": [
    {
     "data": {
      "text/plain": [
       "[1, 4, 78, 4]"
      ]
     },
     "execution_count": 109,
     "metadata": {},
     "output_type": "execute_result"
    }
   ],
   "source": [
    "# itertools.compress\n",
    "list(itertools.compress(l, (i>0 for i in l)))"
   ]
  },
  {
   "cell_type": "markdown",
   "id": "bf56a6db-29ab-4326-b1b6-b52c3a75ff87",
   "metadata": {},
   "source": [
    "## 从字典中提取元素"
   ]
  },
  {
   "cell_type": "code",
   "execution_count": 110,
   "id": "764d082b-43dd-451d-9345-9950e392f650",
   "metadata": {},
   "outputs": [
    {
     "data": {
      "text/plain": [
       "{0: 0, 1: 2, 2: 4, 3: 6, 4: 8, 5: 10, 6: 12, 7: 14, 8: 16, 9: 18}"
      ]
     },
     "execution_count": 110,
     "metadata": {},
     "output_type": "execute_result"
    }
   ],
   "source": [
    "# 字典生成\n",
    "{i:i+i for i in range(10)}"
   ]
  },
  {
   "cell_type": "markdown",
   "id": "ef71c541-f887-4471-8fbd-13948a4bbb6f",
   "metadata": {},
   "source": [
    "## 将名称映射到序列的元素中 nametuple"
   ]
  },
  {
   "cell_type": "code",
   "execution_count": 116,
   "id": "35d695cd-ebbc-487c-ad0f-1d0d59bc5ddf",
   "metadata": {},
   "outputs": [],
   "source": [
    "from collections import namedtuple\n",
    "Point = namedtuple('Point', ['x', 'y'], defaults=[0])"
   ]
  },
  {
   "cell_type": "code",
   "execution_count": 119,
   "id": "3bef6568-fcad-451c-a1da-3636a14772e9",
   "metadata": {},
   "outputs": [
    {
     "name": "stdout",
     "output_type": "stream",
     "text": [
      "Point(x=3, y=0) 3\n"
     ]
    }
   ],
   "source": [
    "p1 = Point(3)\n",
    "print(p1, p1.x)"
   ]
  },
  {
   "cell_type": "code",
   "execution_count": 120,
   "id": "79622cd3-3bf6-47ef-ba58-6e6a15c282d2",
   "metadata": {},
   "outputs": [
    {
     "name": "stdout",
     "output_type": "stream",
     "text": [
      "('x', 'y') {'y': 0}\n"
     ]
    }
   ],
   "source": [
    "print(p1._fields, p1._field_defaults)"
   ]
  },
  {
   "cell_type": "code",
   "execution_count": 121,
   "id": "39fcbcf0-1230-47b7-a486-b988973ce08f",
   "metadata": {},
   "outputs": [
    {
     "name": "stdout",
     "output_type": "stream",
     "text": [
      "Point(x=3, y=2)\n"
     ]
    }
   ],
   "source": [
    "p2 = p1._replace(y=2)\n",
    "print(p2)"
   ]
  },
  {
   "cell_type": "code",
   "execution_count": 125,
   "id": "f6426a11-edc0-47b6-aed0-ba21f7d80967",
   "metadata": {},
   "outputs": [
    {
     "data": {
      "text/plain": [
       "Point(x=3, y=2)"
      ]
     },
     "execution_count": 125,
     "metadata": {},
     "output_type": "execute_result"
    }
   ],
   "source": [
    "Point._make([3,2])"
   ]
  },
  {
   "cell_type": "markdown",
   "id": "506cf24b-3932-49a7-a62e-313ff0a03d6a",
   "metadata": {},
   "source": [
    "## 同时对数据做转化和运算"
   ]
  },
  {
   "cell_type": "code",
   "execution_count": 127,
   "id": "88d06b0f-d64c-4c34-8b95-0057c8b9a60a",
   "metadata": {},
   "outputs": [],
   "source": [
    "import random\n",
    "l = []\n",
    "for i in range(1000000):\n",
    "    l.append(random.randint(0, 10000))"
   ]
  },
  {
   "cell_type": "code",
   "execution_count": 129,
   "id": "7b36ba94-4436-44eb-8505-af8f1d6b22a9",
   "metadata": {},
   "outputs": [
    {
     "name": "stdout",
     "output_type": "stream",
     "text": [
      "0.03592991828918457\n"
     ]
    }
   ],
   "source": [
    "import time\n",
    "start = time.time()\n",
    "sum(i for i in l)\n",
    "print(time.time()- start)"
   ]
  },
  {
   "cell_type": "markdown",
   "id": "08390c3d-e107-47ab-a56d-ec0ad2775450",
   "metadata": {},
   "source": [
    "## 多个映射合并单个映射 ChainMap"
   ]
  },
  {
   "cell_type": "code",
   "execution_count": 143,
   "id": "7f660523-110f-488c-947e-2742962b79d2",
   "metadata": {},
   "outputs": [
    {
     "data": {
      "text/plain": [
       "ChainMap({'x': 1, 'z': 3}, {'y': 2, 'z': 4})"
      ]
     },
     "execution_count": 143,
     "metadata": {},
     "output_type": "execute_result"
    }
   ],
   "source": [
    "from collections import ChainMap\n",
    "a = {'x':1, 'z':3}\n",
    "b = {'y':2, 'z':4}\n",
    "c = ChainMap(a, b)\n",
    "c"
   ]
  },
  {
   "cell_type": "code",
   "execution_count": 144,
   "id": "820af2a7-b1e3-4ab5-9faa-a1f839907e4a",
   "metadata": {},
   "outputs": [
    {
     "name": "stdout",
     "output_type": "stream",
     "text": [
      "3 ['y', 'z', 'x'] 3\n"
     ]
    }
   ],
   "source": [
    "print(len(c), list(c.keys()), c['z'])"
   ]
  },
  {
   "cell_type": "code",
   "execution_count": 145,
   "id": "3a2be207-af07-4392-bd75-db0f81082d5c",
   "metadata": {},
   "outputs": [
    {
     "ename": "KeyError",
     "evalue": "\"Key not found in the first mapping: 'y'\"",
     "output_type": "error",
     "traceback": [
      "\u001b[1;31m---------------------------------------------------------------------------\u001b[0m",
      "\u001b[1;31mKeyError\u001b[0m                                  Traceback (most recent call last)",
      "\u001b[1;32mE:\\ProgramData\\CondaData\\envs\\pure\\lib\\collections\\__init__.py\u001b[0m in \u001b[0;36m__delitem__\u001b[1;34m(self, key)\u001b[0m\n\u001b[0;32m    993\u001b[0m         \u001b[1;32mtry\u001b[0m\u001b[1;33m:\u001b[0m\u001b[1;33m\u001b[0m\u001b[1;33m\u001b[0m\u001b[0m\n\u001b[1;32m--> 994\u001b[1;33m             \u001b[1;32mdel\u001b[0m \u001b[0mself\u001b[0m\u001b[1;33m.\u001b[0m\u001b[0mmaps\u001b[0m\u001b[1;33m[\u001b[0m\u001b[1;36m0\u001b[0m\u001b[1;33m]\u001b[0m\u001b[1;33m[\u001b[0m\u001b[0mkey\u001b[0m\u001b[1;33m]\u001b[0m\u001b[1;33m\u001b[0m\u001b[1;33m\u001b[0m\u001b[0m\n\u001b[0m\u001b[0;32m    995\u001b[0m         \u001b[1;32mexcept\u001b[0m \u001b[0mKeyError\u001b[0m\u001b[1;33m:\u001b[0m\u001b[1;33m\u001b[0m\u001b[1;33m\u001b[0m\u001b[0m\n",
      "\u001b[1;31mKeyError\u001b[0m: 'y'",
      "\nDuring handling of the above exception, another exception occurred:\n",
      "\u001b[1;31mKeyError\u001b[0m                                  Traceback (most recent call last)",
      "\u001b[1;32m~\\AppData\\Local\\Temp/ipykernel_27260/1340153759.py\u001b[0m in \u001b[0;36m<module>\u001b[1;34m\u001b[0m\n\u001b[1;32m----> 1\u001b[1;33m \u001b[1;32mdel\u001b[0m \u001b[0mc\u001b[0m\u001b[1;33m[\u001b[0m\u001b[1;34m'y'\u001b[0m\u001b[1;33m]\u001b[0m\u001b[1;33m\u001b[0m\u001b[1;33m\u001b[0m\u001b[0m\n\u001b[0m",
      "\u001b[1;32mE:\\ProgramData\\CondaData\\envs\\pure\\lib\\collections\\__init__.py\u001b[0m in \u001b[0;36m__delitem__\u001b[1;34m(self, key)\u001b[0m\n\u001b[0;32m    994\u001b[0m             \u001b[1;32mdel\u001b[0m \u001b[0mself\u001b[0m\u001b[1;33m.\u001b[0m\u001b[0mmaps\u001b[0m\u001b[1;33m[\u001b[0m\u001b[1;36m0\u001b[0m\u001b[1;33m]\u001b[0m\u001b[1;33m[\u001b[0m\u001b[0mkey\u001b[0m\u001b[1;33m]\u001b[0m\u001b[1;33m\u001b[0m\u001b[1;33m\u001b[0m\u001b[0m\n\u001b[0;32m    995\u001b[0m         \u001b[1;32mexcept\u001b[0m \u001b[0mKeyError\u001b[0m\u001b[1;33m:\u001b[0m\u001b[1;33m\u001b[0m\u001b[1;33m\u001b[0m\u001b[0m\n\u001b[1;32m--> 996\u001b[1;33m             \u001b[1;32mraise\u001b[0m \u001b[0mKeyError\u001b[0m\u001b[1;33m(\u001b[0m\u001b[1;34mf'Key not found in the first mapping: {key!r}'\u001b[0m\u001b[1;33m)\u001b[0m\u001b[1;33m\u001b[0m\u001b[1;33m\u001b[0m\u001b[0m\n\u001b[0m\u001b[0;32m    997\u001b[0m \u001b[1;33m\u001b[0m\u001b[0m\n\u001b[0;32m    998\u001b[0m     \u001b[1;32mdef\u001b[0m \u001b[0mpopitem\u001b[0m\u001b[1;33m(\u001b[0m\u001b[0mself\u001b[0m\u001b[1;33m)\u001b[0m\u001b[1;33m:\u001b[0m\u001b[1;33m\u001b[0m\u001b[1;33m\u001b[0m\u001b[0m\n",
      "\u001b[1;31mKeyError\u001b[0m: \"Key not found in the first mapping: 'y'\""
     ]
    }
   ],
   "source": [
    "del c['y']"
   ]
  },
  {
   "cell_type": "code",
   "execution_count": 151,
   "id": "76846da0-524e-41ee-955a-646c4daabbca",
   "metadata": {},
   "outputs": [
    {
     "name": "stdout",
     "output_type": "stream",
     "text": [
      "ChainMap({}) ChainMap({'x': 3}, {})\n"
     ]
    }
   ],
   "source": [
    "c = ChainMap()\n",
    "d = c.new_child()\n",
    "d['x'] = 3\n",
    "print(c, d)"
   ]
  },
  {
   "cell_type": "code",
   "execution_count": 152,
   "id": "6cc5cfb0-13aa-4148-8b2e-d84a6c4f55d3",
   "metadata": {},
   "outputs": [
    {
     "name": "stdout",
     "output_type": "stream",
     "text": [
      "ChainMap({}) ChainMap({'x': 2}, {})\n"
     ]
    }
   ],
   "source": [
    "b = c.new_child()\n",
    "b['x'] = 2\n",
    "print(c, b)"
   ]
  },
  {
   "cell_type": "code",
   "execution_count": 154,
   "id": "94abd141-8f84-4497-b354-b7c5c8d217bd",
   "metadata": {},
   "outputs": [],
   "source": [
    "import builtins\n",
    "pylookup = ChainMap(locals(), globals(), vars(builtins))"
   ]
  },
  {
   "cell_type": "code",
   "execution_count": null,
   "id": "8bc22e71-a9a1-4f69-a617-53bd5a9a790a",
   "metadata": {},
   "outputs": [],
   "source": []
  }
 ],
 "metadata": {
  "kernelspec": {
   "display_name": "Python 3 (ipykernel)",
   "language": "python",
   "name": "python3"
  },
  "language_info": {
   "codemirror_mode": {
    "name": "ipython",
    "version": 3
   },
   "file_extension": ".py",
   "mimetype": "text/x-python",
   "name": "python",
   "nbconvert_exporter": "python",
   "pygments_lexer": "ipython3",
   "version": "3.9.7"
  },
  "toc-autonumbering": true
 },
 "nbformat": 4,
 "nbformat_minor": 5
}
